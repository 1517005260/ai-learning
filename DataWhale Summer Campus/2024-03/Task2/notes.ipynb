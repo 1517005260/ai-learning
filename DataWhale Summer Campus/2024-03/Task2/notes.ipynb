{
 "cells": [
  {
   "cell_type": "markdown",
   "metadata": {},
   "source": [
    "# Task 2 : 时间序列挖掘 + ABM构建学习"
   ]
  }
 ],
 "metadata": {
  "language_info": {
   "name": "python"
  }
 },
 "nbformat": 4,
 "nbformat_minor": 2
}
