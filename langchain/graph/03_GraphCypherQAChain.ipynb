{
 "cells": [
  {
   "cell_type": "markdown",
   "metadata": {},
   "source": [
    "# Langchain与知识图谱结合问答\n",
    "\n",
    "针对图数据库的自动问答：所谓的自动，就是不需要人工定义模板，让大模型自动生成Cypher语句，然后查询数据库，得到答案，要用的链是GraphCypherQAChain。"
   ]
  },
  {
   "cell_type": "code",
   "execution_count": 1,
   "metadata": {},
   "outputs": [
    {
     "name": "stdout",
     "output_type": "stream",
     "text": [
      "Looking in indexes: https://pypi.tuna.tsinghua.edu.cn/simple/Note: you may need to restart the kernel to use updated packages.\n",
      "\n",
      "Collecting neo4j\n",
      "  Downloading https://pypi.tuna.tsinghua.edu.cn/packages/f7/9a/cec819e5887804896db67b13215682b15e6f9201d9cf63890fee2b9a29e9/neo4j-5.27.0-py3-none-any.whl (301 kB)\n",
      "     ---------------------------------------- 0.0/301.7 kB ? eta -:--:--\n",
      "     ----------- --------------------------- 92.2/301.7 kB 2.6 MB/s eta 0:00:01\n",
      "     -------------------------------------  297.0/301.7 kB 3.7 MB/s eta 0:00:01\n",
      "     -------------------------------------- 301.7/301.7 kB 3.7 MB/s eta 0:00:00\n",
      "Requirement already satisfied: pytz in c:\\programdata\\anaconda3\\lib\\site-packages (from neo4j) (2023.3.post1)\n",
      "Installing collected packages: neo4j\n",
      "Successfully installed neo4j-5.27.0\n"
     ]
    }
   ],
   "source": [
    "%pip install neo4j"
   ]
  },
  {
   "cell_type": "markdown",
   "metadata": {},
   "source": [
    "此外，还需要安装apoc插件，将neo4j/labs/apoc-5.25.1-core -> plugins/apoc-5.25.1-core 即可。\n",
    "\n",
    "之后修改配置项，\n",
    "\n",
    "```conf\n",
    "# 修改conf/neo4j.conf\n",
    "server.directories.plugins=plugins\n",
    "dbms.security.procedures.allowlist=*\n",
    "dbms.security.procedures.unrestricted=*\n",
    "```\n",
    "\n",
    "最后重启neo4j验证：\n",
    "\n",
    "```cypher\n",
    "return apoc.version();\n",
    "```"
   ]
  },
  {
   "cell_type": "code",
   "execution_count": 2,
   "metadata": {},
   "outputs": [],
   "source": [
    "import shutup\n",
    "shutup.please()\n",
    "\n",
    "from langchain.chat_models import ChatOpenAI\n",
    "from dotenv import load_dotenv\n",
    "\n",
    "load_dotenv()\n",
    "llm = ChatOpenAI(model='qwen2:7b', temperature=0)"
   ]
  },
  {
   "cell_type": "code",
   "execution_count": 4,
   "metadata": {},
   "outputs": [
    {
     "name": "stdout",
     "output_type": "stream",
     "text": [
      "\n",
      "\n",
      "\u001b[1m> Entering new GraphCypherQAChain chain...\u001b[0m\n",
      "Generated Cypher:\n",
      "\u001b[32;1m\u001b[1;3mMATCH (d:Disease {name: \"过敏性鼻炎\"})-[:DISEASE_CUREWAY]->(c:Cureway) RETURN c.name LIMIT 1\u001b[0m\n",
      "Full Context:\n",
      "\u001b[32;1m\u001b[1;3m[{'c.name': '支持性治疗'}]\u001b[0m\n",
      "\n",
      "\u001b[1m> Finished chain.\u001b[0m\n"
     ]
    },
    {
     "data": {
      "text/plain": [
       "'支持性治疗是管理过敏性鼻炎的有效方法之一。通过这种方式，可以减轻症状并提高生活质量。然而，完全治愈过敏性鼻炎可能具有挑战性，因为这通常涉及到对环境因素的持续控制和避免接触已知的过敏原。此外，个人的生活方式、饮食习惯以及使用药物等综合措施也起着重要作用。在某些情况下，通过这些方法可以显著改善症状，使得生活质量得到极大提升。'"
      ]
     },
     "execution_count": 4,
     "metadata": {},
     "output_type": "execute_result"
    }
   ],
   "source": [
    "from langchain.graphs import Neo4jGraph\n",
    "from langchain.chains import GraphCypherQAChain\n",
    "\n",
    "graph = Neo4jGraph(\n",
    "    'neo4j://localhost:7687',\n",
    "    'neo4j',     # 用户名\n",
    "    '***', # 密码\n",
    "    'test'    # 数据库\n",
    ")\n",
    "\n",
    "chain = GraphCypherQAChain.from_llm(\n",
    "    llm = llm,\n",
    "    graph = graph,\n",
    "    verbose = True\n",
    ")\n",
    "\n",
    "result = chain.run('过敏性鼻炎能治好吗？')\n",
    "result"
   ]
  }
 ],
 "metadata": {
  "kernelspec": {
   "display_name": "base",
   "language": "python",
   "name": "python3"
  },
  "language_info": {
   "codemirror_mode": {
    "name": "ipython",
    "version": 3
   },
   "file_extension": ".py",
   "mimetype": "text/x-python",
   "name": "python",
   "nbconvert_exporter": "python",
   "pygments_lexer": "ipython3",
   "version": "3.11.7"
  }
 },
 "nbformat": 4,
 "nbformat_minor": 2
}
