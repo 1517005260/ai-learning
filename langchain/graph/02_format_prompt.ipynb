{
 "cells": [
  {
   "cell_type": "markdown",
   "metadata": {},
   "source": [
    "# 输出提示词重写\n",
    "\n",
    "之前，内置的提示词是：\n",
    "\n",
    "```markdown\n",
    "\n",
    "The output should be a markdown code snippet formatted in the following schema, including the leading and trailing \"```json\" and \"```\":\n",
    "\n",
    "```json\n",
    "{\n",
    "        \"disease\": list  // 疾病名称实体\n",
    "        \"symptom\": list  // 疾病症状实体\n",
    "        \"drug\": list  // 药物名称实体\n",
    "}\n",
    "\n",
    "```\n",
    "\n",
    "\\```\n"
   ]
  },
  {
   "cell_type": "markdown",
   "metadata": {},
   "source": [
    "\n",
    "这会导致总体提示词中英文混杂，并且比较笨的模型可能会把注释一起输出了，这里做出改进。\n",
    "\n",
    "新提示词：\n",
    "\n",
    "```markdown\n",
    "请从以下文本中，抽取出实体信息，并按json格式返回，json包含首尾的 \"```json\" 和 \"```\":\n",
    "以下是字段含义和类型，要求保留所有字段：\n",
    "disease 字段，表示：疾病名称实体，类型为：list\n",
    "symptom 字段，表示：疾病症状实体，类型为：list\n",
    "drug 字段，表示：药物名称实体，类型为：list\n",
    "```"
   ]
  },
  {
   "cell_type": "code",
   "execution_count": 1,
   "metadata": {},
   "outputs": [],
   "source": [
    "import shutup\n",
    "shutup.please()\n",
    "\n",
    "from langchain.chat_models import ChatOpenAI\n",
    "from dotenv import load_dotenv\n",
    "from langchain.prompts import PromptTemplate\n",
    "from langchain.output_parsers import ResponseSchema, StructuredOutputParser\n",
    "\n",
    "load_dotenv()\n",
    "llm = ChatOpenAI(model_name='qwen2:7b', temperature=0)"
   ]
  },
  {
   "cell_type": "markdown",
   "metadata": {},
   "source": [
    "需要重写解析器："
   ]
  },
  {
   "cell_type": "code",
   "execution_count": 3,
   "metadata": {},
   "outputs": [
    {
     "data": {
      "text/plain": [
       "'\\n    请从以下文本中，抽取出实体信息，并按json格式返回，json包含首尾的 \"```json\" 和 \"```\":\\n    以下是字段含义和类型，要求保留所有字段：\\n    disease 字段，表示：疾病名称实体，类型为：list\\nsymptom 字段，表示：疾病症状实体，类型为：list\\ndrug 字段，表示：药物名称实体，类型为：list\\n'"
      ]
     },
     "execution_count": 3,
     "metadata": {},
     "output_type": "execute_result"
    }
   ],
   "source": [
    "def structured_output_parser(response_schemas):\n",
    "    text = '''\n",
    "    请从以下文本中，抽取出实体信息，并按json格式返回，json包含首尾的 \"```json\" 和 \"```\":\n",
    "    以下是字段含义和类型，要求保留所有字段：\n",
    "    '''\n",
    "    for schema in response_schemas:\n",
    "        text += schema.name + ' 字段，表示：' + schema.description + '，类型为：' + schema.type + '\\n'\n",
    "    return text\n",
    "\n",
    "response_schemas = [\n",
    "    ResponseSchema(type='list', name='disease', description='疾病名称实体'),\n",
    "    ResponseSchema(type='list', name='symptom', description='疾病症状实体'),\n",
    "    ResponseSchema(type='list', name='drug', description='药物名称实体'),\n",
    "]\n",
    "\n",
    "format_instructions = structured_output_parser(response_schemas)\n",
    "format_instructions"
   ]
  },
  {
   "cell_type": "code",
   "execution_count": 4,
   "metadata": {},
   "outputs": [
    {
     "name": "stdout",
     "output_type": "stream",
     "text": [
      "{'disease': ['感冒'], 'symptom': ['咳嗽'], 'drug': []} <class 'dict'>\n"
     ]
    }
   ],
   "source": [
    "output_parser = StructuredOutputParser.from_response_schemas(response_schemas)\n",
    "\n",
    "template = '''\n",
    "{format_instructions}\n",
    "------------\n",
    "用户输入：{input}\n",
    "------------\n",
    "输出：\n",
    "'''\n",
    "\n",
    "prompt = PromptTemplate(\n",
    "    template=template,\n",
    "    partial_variables={'format_instructions': format_instructions},\n",
    "    input_variables=['input']\n",
    ")\n",
    "\n",
    "from langchain.chains import LLMChain\n",
    "\n",
    "chain = LLMChain(\n",
    "    llm = llm,\n",
    "    prompt = prompt\n",
    ")\n",
    "\n",
    "llm_output = chain.run(input='感冒是一种什么病？会导致咳嗽吗？')\n",
    "\n",
    "output = output_parser.parse(llm_output)\n",
    "print(output, type(output))"
   ]
  }
 ],
 "metadata": {
  "kernelspec": {
   "display_name": "base",
   "language": "python",
   "name": "python3"
  },
  "language_info": {
   "codemirror_mode": {
    "name": "ipython",
    "version": 3
   },
   "file_extension": ".py",
   "mimetype": "text/x-python",
   "name": "python",
   "nbconvert_exporter": "python",
   "pygments_lexer": "ipython3",
   "version": "3.11.7"
  }
 },
 "nbformat": 4,
 "nbformat_minor": 2
}
