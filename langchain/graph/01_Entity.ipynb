{
 "cells": [
  {
   "cell_type": "markdown",
   "metadata": {},
   "source": [
    "# 命名实体识别"
   ]
  },
  {
   "cell_type": "code",
   "execution_count": 1,
   "metadata": {},
   "outputs": [],
   "source": [
    "import shutup\n",
    "shutup.please()\n",
    "\n",
    "from langchain.chat_models import ChatOpenAI\n",
    "from dotenv import load_dotenv\n",
    "from langchain.prompts import PromptTemplate\n",
    "from langchain.output_parsers import ResponseSchema, StructuredOutputParser  # 格式化输出\n",
    "\n",
    "load_dotenv()\n",
    "llm = ChatOpenAI(model_name='qwen2:7b', temperature=0)"
   ]
  },
  {
   "cell_type": "markdown",
   "metadata": {},
   "source": [
    "需要命名实体的识别，是要把实体提取出来，填充CQL的，所以我们希望大模型处理完之后的数据是字典数据，这个过程，我们需要用到LangChain中的格式化输出。"
   ]
  },
  {
   "cell_type": "code",
   "execution_count": 2,
   "metadata": {},
   "outputs": [
    {
     "data": {
      "text/plain": [
       "'The output should be a markdown code snippet formatted in the following schema, including the leading and trailing \"```json\" and \"```\":\\n\\n```json\\n{\\n\\t\"disease\": list  // 疾病名称实体\\n\\t\"symptom\": list  // 疾病症状实体\\n\\t\"drug\": list  // 药物名称实体\\n}\\n```'"
      ]
     },
     "execution_count": 2,
     "metadata": {},
     "output_type": "execute_result"
    }
   ],
   "source": [
    "# 定义实体字段\n",
    "# 类型有：list, string, number\n",
    "response_schemas = [\n",
    "    ResponseSchema(type='list', name='disease', description='疾病名称实体'),   # 可随时修改、增加\n",
    "    ResponseSchema(type='list', name='symptom', description='疾病症状实体'),\n",
    "    ResponseSchema(type='list', name='drug', description='药物名称实体'),\n",
    "]\n",
    "\n",
    "output_parser = StructuredOutputParser.from_response_schemas(response_schemas)\n",
    "format_instructions = output_parser.get_format_instructions()\n",
    "format_instructions"
   ]
  },
  {
   "cell_type": "markdown",
   "metadata": {},
   "source": [
    "有了上面的输出，后续就可以直接从大模型的回复中摘出markdown格式的json了。\n",
    "\n",
    "但是我们的提示词里面带了注释，比较笨的模型可能会在最后的结果里继续附带注释，导致我们处理的代码报错。\n",
    "\n",
    "这段提示词会是最后大的提示词中的一小部分。\n",
    "\n",
    "此外，大模型可能会自己生成一些实体，这不符合我们的需求，需要人为规定只能抽取我们给它的实体。"
   ]
  },
  {
   "cell_type": "code",
   "execution_count": 15,
   "metadata": {},
   "outputs": [
    {
     "data": {
      "text/plain": [
       "'\\n1、从以下用户输入的句子中，提取实体内容。\\n2、仅根据用户输入抽取，不要推理。\\n3、注意json格式，在json中不要出现//\\n\\nThe output should be a markdown code snippet formatted in the following schema, including the leading and trailing \"```json\" and \"```\":\\n\\n```json\\n{\\n\\t\"disease\": list  // 疾病名称实体\\n\\t\"symptom\": list  // 疾病症状实体\\n\\t\"drug\": list  // 药物名称实体\\n}\\n```\\n\\n用户输入：感冒是一种什么病？\\n\\n输出：\\n'"
      ]
     },
     "execution_count": 15,
     "metadata": {},
     "output_type": "execute_result"
    }
   ],
   "source": [
    "template = '''\n",
    "1、从以下用户输入的句子中，提取实体内容。\n",
    "2、仅根据用户输入抽取，不要推理。\n",
    "3、注意json格式，在json中不要出现//\n",
    "\n",
    "{format_instructions}\n",
    "\n",
    "用户输入：{input}\n",
    "\n",
    "输出：\n",
    "'''\n",
    "\n",
    "prompt = PromptTemplate(\n",
    "    template=template,\n",
    "    partial_variables={'format_instructions': format_instructions},\n",
    "    input_variables=['input']\n",
    ")\n",
    "\n",
    "prompt = prompt.format(input='感冒是一种什么病？')\n",
    "prompt"
   ]
  },
  {
   "cell_type": "markdown",
   "metadata": {},
   "source": [
    "最后我们来测试一下："
   ]
  },
  {
   "cell_type": "code",
   "execution_count": 14,
   "metadata": {},
   "outputs": [
    {
     "data": {
      "text/plain": [
       "'```json\\n{\\n\\t\"disease\": [\"感冒\"],\\n\\t\"symptom\": [\"咳嗽\"],\\n\\t\"drug\": []\\n}\\n```'"
      ]
     },
     "execution_count": 14,
     "metadata": {},
     "output_type": "execute_result"
    }
   ],
   "source": [
    "from langchain.chains import LLMChain\n",
    "\n",
    "chain = LLMChain(\n",
    "    llm=llm,\n",
    "    prompt=prompt\n",
    ")\n",
    "\n",
    "llm_output = chain.run(input='感冒是一种什么病？会导致咳嗽吗？')\n",
    "llm_output"
   ]
  },
  {
   "cell_type": "code",
   "execution_count": 16,
   "metadata": {},
   "outputs": [
    {
     "name": "stdout",
     "output_type": "stream",
     "text": [
      "{'disease': ['感冒'], 'symptom': ['咳嗽'], 'drug': []} <class 'dict'>\n"
     ]
    }
   ],
   "source": [
    "output = output_parser.parse(llm_output)\n",
    "print(output, type(output))"
   ]
  }
 ],
 "metadata": {
  "kernelspec": {
   "display_name": "base",
   "language": "python",
   "name": "python3"
  },
  "language_info": {
   "codemirror_mode": {
    "name": "ipython",
    "version": 3
   },
   "file_extension": ".py",
   "mimetype": "text/x-python",
   "name": "python",
   "nbconvert_exporter": "python",
   "pygments_lexer": "ipython3",
   "version": "3.11.7"
  }
 },
 "nbformat": 4,
 "nbformat_minor": 2
}
