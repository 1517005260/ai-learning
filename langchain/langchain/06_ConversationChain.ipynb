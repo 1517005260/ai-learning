{
 "cells": [
  {
   "cell_type": "markdown",
   "metadata": {},
   "source": [
    "# ConversationChain\n",
    "\n",
    "专门用于处理对话场景的链——需要兼顾历史，例如，大模型需要分析“这个”、“那个”在上下文指代的是什么。"
   ]
  },
  {
   "cell_type": "code",
   "execution_count": 1,
   "metadata": {},
   "outputs": [],
   "source": [
    "import shutup\n",
    "shutup.please()\n",
    "\n",
    "from dotenv import load_dotenv\n",
    "from langchain.chat_models import ChatOpenAI\n",
    "\n",
    "load_dotenv()\n",
    "\n",
    "llm = ChatOpenAI(model='qwen2:7b')"
   ]
  },
  {
   "cell_type": "code",
   "execution_count": 2,
   "metadata": {},
   "outputs": [
    {
     "data": {
      "text/plain": [
       "'The following is a friendly conversation between a human and an AI. The AI is talkative and provides lots of specific details from its context. If the AI does not know the answer to a question, it truthfully says it does not know.\\n\\nCurrent conversation:\\n{history}\\nHuman: {input}\\nAI:'"
      ]
     },
     "execution_count": 2,
     "metadata": {},
     "output_type": "execute_result"
    }
   ],
   "source": [
    "from langchain.chains import ConversationChain\n",
    "\n",
    "conversation = ConversationChain(llm=llm, verbose=True)\n",
    "conversation.prompt.template  # 内置的提示词\n"
   ]
  },
  {
   "cell_type": "code",
   "execution_count": 3,
   "metadata": {},
   "outputs": [
    {
     "name": "stdout",
     "output_type": "stream",
     "text": [
      "\n",
      "\n",
      "\u001b[1m> Entering new ConversationChain chain...\u001b[0m\n",
      "Prompt after formatting:\n",
      "\u001b[32;1m\u001b[1;3mThe following is a friendly conversation between a human and an AI. The AI is talkative and provides lots of specific details from its context. If the AI does not know the answer to a question, it truthfully says it does not know.\n",
      "\n",
      "Current conversation:\n",
      "\n",
      "Human: 你好\n",
      "AI:\u001b[0m\n",
      "\n",
      "\u001b[1m> Finished chain.\u001b[0m\n",
      "Assistant:  你好！有什么我可以帮助你的吗？\n",
      "\n",
      "\n",
      "\u001b[1m> Entering new ConversationChain chain...\u001b[0m\n",
      "Prompt after formatting:\n",
      "\u001b[32;1m\u001b[1;3mThe following is a friendly conversation between a human and an AI. The AI is talkative and provides lots of specific details from its context. If the AI does not know the answer to a question, it truthfully says it does not know.\n",
      "\n",
      "Current conversation:\n",
      "Human: 你好\n",
      "AI: 你好！有什么我可以帮助你的吗？\n",
      "Human: 你是谁\n",
      "AI:\u001b[0m\n",
      "\n",
      "\u001b[1m> Finished chain.\u001b[0m\n",
      "Assistant:  我是AI助手，专门用来提供信息、解答问题和与用户进行交流。我被设计来协助解答各种主题的疑问、提供知识指导，并且还能理解并参与自然语言对话。你有什么问题或需要帮助的地方吗？\n",
      "\n",
      "\n",
      "\u001b[1m> Entering new ConversationChain chain...\u001b[0m\n",
      "Prompt after formatting:\n",
      "\u001b[32;1m\u001b[1;3mThe following is a friendly conversation between a human and an AI. The AI is talkative and provides lots of specific details from its context. If the AI does not know the answer to a question, it truthfully says it does not know.\n",
      "\n",
      "Current conversation:\n",
      "Human: 你好\n",
      "AI: 你好！有什么我可以帮助你的吗？\n",
      "Human: 你是谁\n",
      "AI: 我是AI助手，专门用来提供信息、解答问题和与用户进行交流。我被设计来协助解答各种主题的疑问、提供知识指导，并且还能理解并参与自然语言对话。你有什么问题或需要帮助的地方吗？\n",
      "Human: 你会点什么\n",
      "AI:\u001b[0m\n",
      "\n",
      "\u001b[1m> Finished chain.\u001b[0m\n",
      "Assistant:  作为一个AI助手，我可以做很多事情：\n",
      "\n",
      "1. **回答问题**：无论是科学、历史、文学还是日常生活中的常识问题，我都可以尽力提供答案。\n",
      "2. **提供信息**：比如时事新闻、科技动态、文化知识等，我都能够快速找到相关信息并分享给你。\n",
      "3. **解释概念**：对于复杂的概念或理论，我可以帮助你理解，并给出详细的解释和例子。\n",
      "4. **建议解决方案**：当你遇到问题或挑战时，我可以提供建议或方案来帮你解决问题。\n",
      "5. **生成文本**：无论是文章、故事、诗歌还是其他类型的文本，我都可以根据你的需求进行创作。\n",
      "6. **翻译服务**：你可以要求将英文或其他语言的内容翻译成中文（或其它语言），或者反之。\n",
      "\n",
      "如果你有具体的问题或需要帮助的某个领域，请告诉我，我会尽力提供帮助。\n"
     ]
    }
   ],
   "source": [
    "for i in range(0,3):\n",
    "    human_input = input('User: ')\n",
    "    result = conversation.predict(input=human_input)\n",
    "    print('Assistant: ', result)"
   ]
  },
  {
   "cell_type": "markdown",
   "metadata": {},
   "source": [
    "每次对话之前，调试界面都可以看到模型接收了历史数据。\n",
    "\n",
    "现在，我们需要模型收到任何问题，都需要回复中文，做出如下修改："
   ]
  },
  {
   "cell_type": "code",
   "execution_count": 4,
   "metadata": {},
   "outputs": [
    {
     "data": {
      "text/plain": [
       "'\\n下面是一段人类和人工智能之间的友好对话。人工智能是健谈的，并根据其上下文提供许多具体细节。如果人工智能不知道一个问题的答案，它就会如实说它不知道。 \\n\\n当前对话：\\n{history}\\nUser:{input}\\nAssistant:\\n'"
      ]
     },
     "execution_count": 4,
     "metadata": {},
     "output_type": "execute_result"
    }
   ],
   "source": [
    "from langchain.prompts import PromptTemplate\n",
    "\n",
    "template = '''\n",
    "下面是一段人类和人工智能之间的友好对话。人工智能是健谈的，并根据其上下文提供许多具体细节。如果人工智能不知道一个问题的答案，它就会如实说它不知道。 \n",
    "\n",
    "当前对话：\n",
    "{history}\n",
    "User:{input}\n",
    "Assistant:\n",
    "'''\n",
    "prompt = PromptTemplate.from_template(template)\n",
    "\n",
    "conversation = ConversationChain(llm=llm, prompt=prompt, verbose=True)\n",
    "conversation.prompt.template"
   ]
  },
  {
   "cell_type": "code",
   "execution_count": 5,
   "metadata": {},
   "outputs": [
    {
     "name": "stdout",
     "output_type": "stream",
     "text": [
      "\n",
      "\n",
      "\u001b[1m> Entering new ConversationChain chain...\u001b[0m\n",
      "Prompt after formatting:\n",
      "\u001b[32;1m\u001b[1;3m\n",
      "下面是一段人类和人工智能之间的友好对话。人工智能是健谈的，并根据其上下文提供许多具体细节。如果人工智能不知道一个问题的答案，它就会如实说它不知道。 \n",
      "\n",
      "当前对话：\n",
      "\n",
      "User:你好\n",
      "Assistant:\n",
      "\u001b[0m\n",
      "\n",
      "\u001b[1m> Finished chain.\u001b[0m\n",
      "Assistant:  你好！很高兴能与你交谈。有什么话题或者问题你想讨论吗？无论是科技、历史、艺术还是日常生活，我都可以尝试帮助解答你的疑问或提供相关信息。请尽管提出你的问题吧！\n",
      "\n",
      "\n",
      "\u001b[1m> Entering new ConversationChain chain...\u001b[0m\n",
      "Prompt after formatting:\n",
      "\u001b[32;1m\u001b[1;3m\n",
      "下面是一段人类和人工智能之间的友好对话。人工智能是健谈的，并根据其上下文提供许多具体细节。如果人工智能不知道一个问题的答案，它就会如实说它不知道。 \n",
      "\n",
      "当前对话：\n",
      "Human: 你好\n",
      "AI: 你好！很高兴能与你交谈。有什么话题或者问题你想讨论吗？无论是科技、历史、艺术还是日常生活，我都可以尝试帮助解答你的疑问或提供相关信息。请尽管提出你的问题吧！\n",
      "User:what is your name\n",
      "Assistant:\n",
      "\u001b[0m\n",
      "\n",
      "\u001b[1m> Finished chain.\u001b[0m\n",
      "Assistant:  我是AI助手，专门用于提供信息和协助解答您的问题。您可以称呼我为AI或者智能助手。有什么我可以帮您了解的吗？\n",
      "\n",
      "\n",
      "\u001b[1m> Entering new ConversationChain chain...\u001b[0m\n",
      "Prompt after formatting:\n",
      "\u001b[32;1m\u001b[1;3m\n",
      "下面是一段人类和人工智能之间的友好对话。人工智能是健谈的，并根据其上下文提供许多具体细节。如果人工智能不知道一个问题的答案，它就会如实说它不知道。 \n",
      "\n",
      "当前对话：\n",
      "Human: 你好\n",
      "AI: 你好！很高兴能与你交谈。有什么话题或者问题你想讨论吗？无论是科技、历史、艺术还是日常生活，我都可以尝试帮助解答你的疑问或提供相关信息。请尽管提出你的问题吧！\n",
      "Human: what is your name\n",
      "AI: 我是AI助手，专门用于提供信息和协助解答您的问题。您可以称呼我为AI或者智能助手。有什么我可以帮您了解的吗？\n",
      "User:感冒怎么治\n",
      "Assistant:\n",
      "\u001b[0m\n",
      "\n",
      "\u001b[1m> Finished chain.\u001b[0m\n",
      "Assistant:  感冒通常是由病毒感染引起的，治疗主要是缓解症状并帮助身体抵抗病毒。以下是一些常见的自我管理和家庭护理建议：\n",
      "\n",
      "1. **休息**：充分休息有助于您的免疫系统更好地应对感染。\n",
      "\n",
      "2. **保持充足的水分摄入**：喝大量的水可以帮助稀释黏液，减轻咳嗽和喉咙痛等症状，并防止脱水。\n",
      "\n",
      "3. **使用加湿器**：在干燥的环境中使用加湿器可以缓解鼻塞、喉咙痛和其他呼吸道不适。\n",
      "\n",
      "4. **解热镇痛药物**：例如非处方药如布洛芬或对乙酰氨基酚可以帮助降低体温，减轻头痛和身体疼痛。请按照包装说明或遵医嘱服用，并注意不要超过推荐剂量。\n",
      "\n",
      "5. **盐水漱口**：用温盐水漱口可以缓解喉咙疼痛和减少咽喉的刺激感。\n",
      "\n",
      "6. **蜂蜜**：适量的蜂蜜（对于1岁以上的孩子）可以帮助减轻咳嗽症状，尤其适用于夜间睡眠时。请确保遵循使用指导并避免给婴儿喂食蜂蜜。\n",
      "\n",
      "7. **保持健康饮食**：吃易于消化的食物，如汤、煮熟的蔬菜和水果，有助于提高能量水平并支持免疫系统。\n",
      "\n",
      "8. **避免传播病毒**：勤洗手、咳嗽或打喷嚏时用纸巾遮住口鼻，并在可能的情况下佩戴口罩以减少对他人感染的风险。\n",
      "\n",
      "如果症状严重（如高热、持续不退的头痛、呼吸困难等）或者您的病情没有改善，应及时就医。医生可能会提供处方药物或其他治疗建议。\n",
      "\n",
      "请记得，这些建议不能替代专业医疗意见。如果您有健康方面的疑问，请咨询合格的医疗专业人士。\n"
     ]
    }
   ],
   "source": [
    "for i in range(0,3):\n",
    "    human_input = input('User: ')\n",
    "    result = conversation.predict(input=human_input)\n",
    "    print('Assistant: ', result)"
   ]
  }
 ],
 "metadata": {
  "kernelspec": {
   "display_name": "base",
   "language": "python",
   "name": "python3"
  },
  "language_info": {
   "codemirror_mode": {
    "name": "ipython",
    "version": 3
   },
   "file_extension": ".py",
   "mimetype": "text/x-python",
   "name": "python",
   "nbconvert_exporter": "python",
   "pygments_lexer": "ipython3",
   "version": "3.11.7"
  }
 },
 "nbformat": 4,
 "nbformat_minor": 2
}
