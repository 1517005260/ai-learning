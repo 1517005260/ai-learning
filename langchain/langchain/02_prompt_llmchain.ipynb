{
 "cells": [
  {
   "cell_type": "markdown",
   "metadata": {},
   "source": [
    "# Prompt 与 LLMChain\n",
    "\n",
    "首先，因为langchain的报警比较多，为了美观我们先进行屏蔽。"
   ]
  },
  {
   "cell_type": "code",
   "execution_count": 2,
   "metadata": {},
   "outputs": [
    {
     "name": "stdout",
     "output_type": "stream",
     "text": [
      "Looking in indexes: https://pypi.tuna.tsinghua.edu.cn/simple/\n",
      "Collecting shutup\n",
      "  Downloading https://pypi.tuna.tsinghua.edu.cn/packages/46/79/27d2b72d4374c9eec40c38bb385d177874f319b33d5f4e0ef4ec65bc6755/shutup-0.2.0-py3-none-any.whl (1.5 kB)\n",
      "Installing collected packages: shutup\n",
      "Successfully installed shutup-0.2.0\n",
      "Note: you may need to restart the kernel to use updated packages.\n"
     ]
    }
   ],
   "source": [
    "%pip install shutup"
   ]
  },
  {
   "cell_type": "code",
   "execution_count": 3,
   "metadata": {},
   "outputs": [],
   "source": [
    "import shutup\n",
    "shutup.please()"
   ]
  },
  {
   "cell_type": "markdown",
   "metadata": {},
   "source": [
    "## 1 提示词模板，替换变量"
   ]
  },
  {
   "cell_type": "code",
   "execution_count": 9,
   "metadata": {},
   "outputs": [
    {
     "data": {
      "text/plain": [
       "'写一首描写秋天的诗'"
      ]
     },
     "execution_count": 9,
     "metadata": {},
     "output_type": "execute_result"
    }
   ],
   "source": [
    "from langchain.prompts import PromptTemplate\n",
    "\n",
    "llm = ChatOpenAI(model_name='qwen-max')\n",
    "\n",
    "template = '写一首描写{sence}的诗'\n",
    "\n",
    "prompt = PromptTemplate(\n",
    "    template = template, \n",
    "    input_variables = ['sence']\n",
    ")\n",
    "\n",
    "prompt.format(sence='秋天')"
   ]
  },
  {
   "cell_type": "markdown",
   "metadata": {},
   "source": [
    "## 2 简写"
   ]
  },
  {
   "cell_type": "code",
   "execution_count": 10,
   "metadata": {},
   "outputs": [
    {
     "data": {
      "text/plain": [
       "'写一首描写春天的诗'"
      ]
     },
     "execution_count": 10,
     "metadata": {},
     "output_type": "execute_result"
    }
   ],
   "source": [
    "template = '写一首描写{sence}的诗'\n",
    "prompt = PromptTemplate.from_template(template)\n",
    "prompt.format(sence=\"春天\")"
   ]
  },
  {
   "cell_type": "markdown",
   "metadata": {},
   "source": [
    "## 3 LLMChain\n",
    "\n",
    "将format后的句子传给大模型"
   ]
  },
  {
   "cell_type": "code",
   "execution_count": 11,
   "metadata": {},
   "outputs": [
    {
     "data": {
      "text/plain": [
       "'秋风起兮白云飞，落叶飘零带晚晖。\\n稻田金黄铺大地，果实累累挂枝垂。\\n鸿雁南向排成字，菊花绽放傲霜姿。\\n人间好景君须记，正是橙黄橘绿时。'"
      ]
     },
     "execution_count": 11,
     "metadata": {},
     "output_type": "execute_result"
    }
   ],
   "source": [
    "from dotenv import load_dotenv\n",
    "load_dotenv()\n",
    "\n",
    "from langchain.chat_models import ChatOpenAI\n",
    "from langchain.chains import LLMChain\n",
    "from langchain.prompts import PromptTemplate\n",
    "\n",
    "llm = ChatOpenAI(model_name='qwen-max')\n",
    "\n",
    "template = '写一首描写{sence}的诗'\n",
    "\n",
    "prompt = PromptTemplate.from_template(template)\n",
    "chain = LLMChain(llm=llm, prompt=prompt)  # 实例化chain，传入模型和提示词\n",
    "result = chain.predict(sence='秋天')\n",
    "result"
   ]
  }
 ],
 "metadata": {
  "kernelspec": {
   "display_name": "base",
   "language": "python",
   "name": "python3"
  },
  "language_info": {
   "codemirror_mode": {
    "name": "ipython",
    "version": 3
   },
   "file_extension": ".py",
   "mimetype": "text/x-python",
   "name": "python",
   "nbconvert_exporter": "python",
   "pygments_lexer": "ipython3",
   "version": "3.11.7"
  }
 },
 "nbformat": 4,
 "nbformat_minor": 2
}
