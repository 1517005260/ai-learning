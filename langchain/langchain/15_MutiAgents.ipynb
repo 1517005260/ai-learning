{
 "cells": [
  {
   "cell_type": "markdown",
   "metadata": {},
   "source": [
    "# 多Agent协作\n",
    "\n",
    "多个应用协作的案例"
   ]
  },
  {
   "cell_type": "code",
   "execution_count": 1,
   "metadata": {},
   "outputs": [],
   "source": [
    "import shutup\n",
    "shutup.please()\n",
    "\n",
    "from langchain.chat_models import ChatOpenAI\n",
    "from dotenv import load_dotenv\n",
    "from langchain.tools import Tool\n",
    "from langchain.chains import LLMRequestsChain, LLMChain\n",
    "from langchain.prompts import Prompt\n",
    "from langchain.agents import initialize_agent\n",
    "\n",
    "load_dotenv()\n",
    "llm = ChatOpenAI(model='gpt-3.5-turbo', temperature=0)"
   ]
  },
  {
   "cell_type": "markdown",
   "metadata": {},
   "source": [
    "接下来，定义几个业务tool:"
   ]
  },
  {
   "cell_type": "code",
   "execution_count": 2,
   "metadata": {},
   "outputs": [],
   "source": [
    "# 通用处理逻辑\n",
    "def generic_func(query):\n",
    "    prompt = Prompt.from_template('回答问题：{query}')\n",
    "    llm_chain = LLMChain(llm=llm, prompt=prompt)\n",
    "    return llm_chain.run(query)\n",
    "\n",
    "# 上网搜索逻辑\n",
    "def search_func(query):\n",
    "    prompt = Prompt.from_template('''\n",
    "    请根据以下搜索结果，回答用户问题。\n",
    "    搜索结果：\n",
    "    {requests_result}\n",
    "    问题：{query}\n",
    "    ''')\n",
    "    llm_chain = LLMChain(llm=llm, prompt=prompt)\n",
    "    llm_request_chain = LLMRequestsChain(llm_chain=llm_chain)\n",
    "    input = {\n",
    "        'query': query,\n",
    "        'url': 'https://www.google.com/search?q='+query.replace(' ', '+')\n",
    "    }\n",
    "    return llm_request_chain.run(input)\n",
    "\n",
    "tools = [\n",
    "    Tool(\n",
    "        name='通用大模型',\n",
    "        func=generic_func,\n",
    "        description='利用大模型自身能力，回答问题。'\n",
    "    ),\n",
    "    Tool(\n",
    "        name='搜索引擎',\n",
    "        func=search_func,\n",
    "        description='其他模型没有正确答案时，使用该工具。'\n",
    "    ),\n",
    "]"
   ]
  },
  {
   "cell_type": "markdown",
   "metadata": {},
   "source": [
    "agent调用tool："
   ]
  },
  {
   "cell_type": "code",
   "execution_count": 5,
   "metadata": {},
   "outputs": [
    {
     "name": "stdout",
     "output_type": "stream",
     "text": [
      "\n",
      "\n",
      "\u001b[1m> Entering new AgentExecutor chain...\u001b[0m\n",
      "\u001b[32;1m\u001b[1;3mI should use the general model to answer this question.\n",
      "Action: 通用大模型\n",
      "Action Input: 感冒吃什么药能好？\u001b[0m\n",
      "Observation: \u001b[36;1m\u001b[1;3m感冒通常是由病毒引起的，因此抗生素在治疗感冒时并不起作用。一般来说，治疗感冒的药物包括退烧药（如对乙酰氨基酚）、止咳药、开塞露等药物。此外，及时休息、多喝水、吃清淡易消化的食物，可以帮助缓解感冒症状并加快康复。如果症状较为严重或持续时间较长，建议就医并按医生的建议进行治疗。\u001b[0m\n",
      "Thought:\u001b[32;1m\u001b[1;3mI now know the final answer\n",
      "Final Answer: 感冒的药物治疗包括退烧药、止咳药、开塞露等，同时休息、补充水分、饮食清淡易消化有助于缓解症状。如果症状严重或持续，应就医并遵医嘱治疗。\u001b[0m\n",
      "\n",
      "\u001b[1m> Finished chain.\u001b[0m\n"
     ]
    },
    {
     "data": {
      "text/plain": [
       "'感冒的药物治疗包括退烧药、止咳药、开塞露等，同时休息、补充水分、饮食清淡易消化有助于缓解症状。如果症状严重或持续，应就医并遵医嘱治疗。'"
      ]
     },
     "execution_count": 5,
     "metadata": {},
     "output_type": "execute_result"
    }
   ],
   "source": [
    "agent_chain = initialize_agent(tools=tools, llm=llm, verbose=True)\n",
    "\n",
    "result = agent_chain.run('感冒吃什么药能好？') # 命中通用模型\n",
    "result"
   ]
  },
  {
   "cell_type": "code",
   "execution_count": 7,
   "metadata": {},
   "outputs": [
    {
     "name": "stdout",
     "output_type": "stream",
     "text": [
      "\n",
      "\n",
      "\u001b[1m> Entering new AgentExecutor chain...\u001b[0m\n",
      "\u001b[32;1m\u001b[1;3mI can use the search engine to find the answer to this question.\n",
      "Action: 搜索引擎\n",
      "Action Input: 双城之战第二季开播时间\u001b[0m\n",
      "Observation: \u001b[33;1m\u001b[1;3m答案：《双城之战第二季》将于2024年11月9日在腾讯视频开播。\u001b[0m\n",
      "Thought:\u001b[32;1m\u001b[1;3mThe show \"双城之战第二季\" will premiere on November 9, 2024, on Tencent Video.\n",
      "Final Answer: 双城之战第二季将于2024年11月9日在腾讯视频开播。\u001b[0m\n",
      "\n",
      "\u001b[1m> Finished chain.\u001b[0m\n"
     ]
    },
    {
     "data": {
      "text/plain": [
       "'双城之战第二季将于2024年11月9日在腾讯视频开播。'"
      ]
     },
     "execution_count": 7,
     "metadata": {},
     "output_type": "execute_result"
    }
   ],
   "source": [
    "result = agent_chain.run('双城之战第二季是什么时候开播的？') # 命中搜索引擎\n",
    "result"
   ]
  },
  {
   "cell_type": "markdown",
   "metadata": {},
   "source": [
    "引入agent之后，就不需要人工来判断什么时候调用什么逻辑了，非常方便。\n",
    "\n",
    "但是，刚刚的测试是无关联的，agent无上下文记忆，例如："
   ]
  },
  {
   "cell_type": "code",
   "execution_count": 8,
   "metadata": {},
   "outputs": [
    {
     "name": "stdout",
     "output_type": "stream",
     "text": [
      "\n",
      "\n",
      "\u001b[1m> Entering new AgentExecutor chain...\u001b[0m\n",
      "\u001b[32;1m\u001b[1;3m我应该首先尝试使用通用大模型回答这个问题。\n",
      "Action: 通用大模型\n",
      "Action Input: 百日咳是一种什么病？\u001b[0m\n",
      "Observation: \u001b[36;1m\u001b[1;3m百日咳是一种由百日咳杆菌引起的传染病，主要症状包括剧烈的持续性咳嗽、呼吸困难、呕吐和发热等。百日咳主要通过飞沫传播，易在人群密集的地方传播，特别是婴幼儿和年幼儿童容易感染百日咳。预防百日咳的方法包括接种疫苗、保持好个人卫生等。如果患上百日咳，及时就医并接受治疗可以减轻症状和并发症的发生。\u001b[0m\n",
      "Thought:\u001b[32;1m\u001b[1;3m我现在知道百日咳是由百日咳杆菌引起的传染病，主要的症状包括剧烈的持续性咳嗽、呼吸困难、呕吐和发热等。\n",
      "Final Answer: 百日咳是一种由百日咳杆菌引起的传染病，主要症状包括剧烈的持续性咳嗽、呼吸困难、呕吐和发热等。\u001b[0m\n",
      "\n",
      "\u001b[1m> Finished chain.\u001b[0m\n",
      "\n",
      "\n",
      "\u001b[1m> Entering new AgentExecutor chain...\u001b[0m\n",
      "\u001b[32;1m\u001b[1;3mI should use the search engine to find information on this topic.\n",
      "Action: 搜索引擎\n",
      "Action Input: 吃什么药好得快？\u001b[0m\n",
      "Observation: \u001b[33;1m\u001b[1;3m根据搜索结果，如果你感冒了想快速好起来，可以考虑使用解热镇痛药，例如对乙酰氨基酚（泰诺）、布洛芬（布洛芬）等，可以有效降低体温和缓解头痛、身体不适等症状。但请注意，大多数药物都有一些副作用，建议咨询医生或药师的建议后再使用药物。\u001b[0m\n",
      "Thought:\u001b[32;1m\u001b[1;3mI now know the possible medications to take for a quick recovery.\n",
      "Final Answer: 解热镇痛药，例如对乙酰氨基酚、布洛芬\u001b[0m\n",
      "\n",
      "\u001b[1m> Finished chain.\u001b[0m\n"
     ]
    },
    {
     "data": {
      "text/plain": [
       "'解热镇痛药，例如对乙酰氨基酚、布洛芬'"
      ]
     },
     "execution_count": 8,
     "metadata": {},
     "output_type": "execute_result"
    }
   ],
   "source": [
    "result = agent_chain.run('百日咳是一种什么病？')\n",
    "result = agent_chain.run('吃什么药好得快？')\n",
    "result"
   ]
  },
  {
   "cell_type": "markdown",
   "metadata": {},
   "source": [
    "现在大模型没有承接到第一个问题的上下文，回答跑偏了，变成了感冒吃什么药好的快。"
   ]
  }
 ],
 "metadata": {
  "kernelspec": {
   "display_name": "base",
   "language": "python",
   "name": "python3"
  },
  "language_info": {
   "codemirror_mode": {
    "name": "ipython",
    "version": 3
   },
   "file_extension": ".py",
   "mimetype": "text/x-python",
   "name": "python",
   "nbconvert_exporter": "python",
   "pygments_lexer": "ipython3",
   "version": "3.11.7"
  }
 },
 "nbformat": 4,
 "nbformat_minor": 2
}
