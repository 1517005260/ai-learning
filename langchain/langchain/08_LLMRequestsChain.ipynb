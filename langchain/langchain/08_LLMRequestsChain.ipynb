{
 "cells": [
  {
   "cell_type": "markdown",
   "metadata": {},
   "source": [
    "# LLM 联网搜索"
   ]
  },
  {
   "cell_type": "code",
   "execution_count": 1,
   "metadata": {},
   "outputs": [],
   "source": [
    "import shutup\n",
    "shutup.please()\n",
    "\n",
    "from langchain.chat_models import ChatOpenAI\n",
    "from dotenv import load_dotenv\n",
    "\n",
    "load_dotenv()\n",
    "llm = ChatOpenAI(model='qwen2:7b')\n",
    "\n",
    "from langchain.chains import LLMRequestsChain\n",
    "from langchain.chains import LLMChain\n",
    "from langchain.prompts import PromptTemplate"
   ]
  },
  {
   "cell_type": "code",
   "execution_count": 2,
   "metadata": {},
   "outputs": [],
   "source": [
    "prompt = PromptTemplate.from_template('''\n",
    "请根据如下搜索结果，回答用户问题。\n",
    "搜索结果：\n",
    "-----------\n",
    "{requests_result}\n",
    "-----------\n",
    "问题：{question}\n",
    "回答：\n",
    "''')\n",
    "\n",
    "llm_chain = LLMChain(llm=llm, prompt=prompt, verbose=True)"
   ]
  },
  {
   "cell_type": "markdown",
   "metadata": {},
   "source": [
    "可以在浏览器中查看搜索示例：\n",
    "\n",
    "```\n",
    "https://www.google.com/search?q=你好\n",
    "```\n",
    "\n",
    "我们需要自主拼接出url，注意google搜索需要vpn"
   ]
  },
  {
   "cell_type": "code",
   "execution_count": 7,
   "metadata": {},
   "outputs": [
    {
     "name": "stdout",
     "output_type": "stream",
     "text": [
      "\n",
      "\n",
      "\u001b[1m> Entering new LLMRequestsChain chain...\u001b[0m\n",
      "\n",
      "\n",
      "\u001b[1m> Entering new LLMChain chain...\u001b[0m\n",
      "Prompt after formatting:\n",
      "\u001b[32;1m\u001b[1;3m\n",
      "请根据如下搜索结果，回答用户问题。\n",
      "搜索结果：\n",
      "-----------\n",
      "Talyor Swift 最新动态 - Google SearchPlease click here if you are not redirected within a few seconds.Accessibility linksSkip to main contentAccessibility helpAccessibility feedback  Press / to jump to the search boxTalyor Swift 最新动态                Sign inFilters and topicsAllImagesNewsVideosShoppingWebMapsMoreAbout 1,180,000 results (0.46 seconds)   These are results for Taylor Swift 最新动态Search instead for Talyor Swift 最新动态        Taylor Swift (泰勒·斯威夫特)     American singer-songwriter        OverviewSongsEventsAlbumsFashionListenSearch Results Main resultsMain resultsMain results EventsDec6Vancouver, CanadaFri 7:00 pm · BC PlaceTicketmasterOfficial sellerVisit siteBandsintownVisit siteDec7Vancouver, CanadaSat 7:00 pm · BC PlaceTicketmasterOfficial sellerVisit siteBandsintownVisit siteDec8Vancouver, CanadaSun 7:00 pm · BC PlaceTicketmasterOfficial sellerVisit siteBandsintownVisit siteSee moreSee less Taylor Swift8worldhttps://www.8world.com › topic › t...8worldhttps://www.8world.com › topic › t... · Translate this page心系飓风灾情Taylor Swift捐653万赈灾 ... 精选内容速递，时时刻刻掌握最新动态。 新闻. 娱乐生活志. Brand logo for 8world ...taylorswift泰勒斯威夫特微博https://m.weibo.cn › extparam=tay...微博https://m.weibo.cn › extparam=tay... · Translate this page3 days ago — 霉霉Taylor Swift最新全球“十一张专辑综合世界巡演/The Eras Tour” “宾州费城站”（巡演第22场）表演惊喜曲目《Hey Stephen》现场！太好听了！Taylor Swift新闻资料Sin Chew Dailyhttps://www.sinchew.com.my › tagSin Chew Dailyhttps://www.sinchew.com.my › tag · Translate this page完成巡演后写小说泰莱跨界出书当作家​ 美国乐坛天后泰莱史薇芙（Taylor Swift）的巡演将于12月圆满落幕，近日传出她已经计划在巡演结束后，转型当作家推出小说。泰勒斯威夫特最新动态IT之家https://www.ithome.com › tagsIT之家https://www.ithome.com › tags · Translate this page《泰勒·斯威夫特：时代巡回演唱会》记录了泰勒40余首热门歌曲，包括大家熟知的《Love Story》《Shake It Off》《Lover》等，烂番茄新鲜度99%，国外知名网站IMDb评分8.3。 截至 ...Taylor SwiftFacebook · Taylor Swift80.2M+ followersFacebook · Taylor Swift80.2M+ followersWe'll be kicking off the final leg of The Eras Tour this week, which is hard to comprehend. This tour has been the most wondrous experience and I knew I ...Taylor Swift新歌单日播放量破3亿创纪录击败圣诞神曲联合早报https://www.zaobao.com.sg › story...联合早报https://www.zaobao.com.sg › story... · Translate this page21 Apr 2024 — 泰勒丝推出新专辑《折》反应热烈，凭借着这张专辑，在Spotify创下单日播放量最多的专辑、艺人与歌曲，共三项纪录。 《折》空降成为史上播放量最高的专辑，排行 ...Complementary results  Listen YouTubeApple MusicDeezerSpotify  AboutDescriptionTaylor Alison Swift is an American singer-songwriter. Known for her biographical songwriting, artistic reinventions, and cultural impact, Swift is a leading figure in popular music and the subject of widespread public interest. WikipediaBorn: 13 December 1989 (age 34 years), West Reading, Pennsylvania, United StatesNet worth: 1.6 billion USD (2024) ForbesHeight: 1.78 mParents: Andrea Swift, Scott Kingsley SwiftFull name: Taylor Alison SwiftFeedback ProfilesFacebookInstagramX (Twitter)YouTube  People also search forSelena Gomez upcoming...Ariana Grande upcoming...Sabrina Carpenter upcoming...Olivia Rodrigo upcoming...See more Taylor Swift The Eras Tour | 滨海湾金沙滨海湾金沙https://zh.marinabaysands.com › ts...滨海湾金沙https://zh.marinabaysands.com › ts... · Translate this page踏入Taylor Swift 的迷人时代，通过滨海湾金沙的独特装置探索这位歌手的非凡旅程。精选的Taylor Swift 名曲于早、午和晚间在购物商城播出，让人沉浸在梦幻般的氛围中。 查看 ...Taylor Swift发文挺Kamala Harris Donald Trump：为此将 ...8worldhttps://vibes.8world.com › e-news8worldhttps://vibes.8world.com › e-news · Translate this page12 Sept 2024 — （综合讯）美国流行音乐天后Taylor Swift在IG发文支持民主党总统候选人Kamala Harris，这则帖文截至今天已获得逾900万个赞，按赞者包括许多影视体育名人， ...Taylor Swift抵新后动向成谜巡演成员狮城趴趴走联合早报https://www.zaobao.com.sg › story...联合早报https://www.zaobao.com.sg › story... · Translate this page2 Mar 2024 — 34岁的美国流行天后Taylor Swift（泰勒丝）的“时代巡回演唱会”（The Eras Tour）移师新加坡，于国家体育场举行的六场演唱会将从星期六（3月2日）展开。因担心恐怖袭击，美歌星斯威夫特本周维也纳三场演唱会被取消美国之音https://www.voachinese.com › org...美国之音https://www.voachinese.com › org... · Translate this page9 Aug 2024 — 美国著名歌星泰勒·斯威夫特（Taylor Swift）本周在世界音乐之都维也纳举办三场演唱会的计划星期三（8月7日）晚在最后一刻被迫取消，原因是演唱会主办方担心 ...Main resultsMain resultsMain resultsPage navigation12345678910Next    Footer links    Google apps \n",
      "-----------\n",
      "问题：Talyor Swift 最新动态\n",
      "回答：\n",
      "\u001b[0m\n",
      "\n",
      "\u001b[1m> Finished chain.\u001b[0m\n",
      "\n",
      "\u001b[1m> Finished chain.\u001b[0m\n"
     ]
    },
    {
     "data": {
      "text/plain": [
       "'关于泰勒·斯威夫特（Taylor Swift）的最新动态，以下是一些更新信息：\\n\\n1. **巡演安排**：她有多个场次的北美巡回演出计划，包括在加拿大温哥华的日期和时间。这些演出将在BC Place体育场进行。\\n\\n2. **慈善捐赠**：泰勒·斯威夫特为飓风灾区捐款653万美元，显示了她在社会公益上的贡献。\\n\\n3. **音乐发布**：她的新专辑《折》（The Album）在Spotify平台上创下单日播放量最多的记录，并成为史上播放量最高的专辑。这一专辑的歌曲和她本人也刷新了艺人与歌曲的相关纪录。\\n\\n4. **全球巡演**：泰勒·斯威夫特的“十一张专辑综合世界巡演/The Eras Tour”（包含多首热门歌曲，如《Love Story》、《Shake It Off》和《Lover》）在费城站演出时增加了惊喜曲目《Hey Stephen》，获得了高度好评。\\n\\n5. **跨界发展**：她计划在音乐巡演结束后转型成为作家，计划撰写小说。这表明泰勒·斯威夫特不仅在音乐领域有卓越成就，在其他艺术形式上也有了新的探索和规划。\\n\\n6. **社交媒体互动**：她在微博等平台上持续活跃，分享生活片段、演出内容以及与粉丝的互动。\\n\\n7. **个人生活**：她曾通过推特支持民主党候选人Kamala Harris，并且在新加坡展开巡演时引起了关注，特别是在安全考虑下取消了维也纳三场演唱会的情况。\\n\\n这些动态展示了泰勒·斯威夫特作为一位多才多艺的艺术家在音乐、慈善和社会活动方面的活跃表现。'"
      ]
     },
     "execution_count": 7,
     "metadata": {},
     "output_type": "execute_result"
    }
   ],
   "source": [
    "chain = LLMRequestsChain(\n",
    "    llm_chain=llm_chain,\n",
    "    verbose=True\n",
    ")\n",
    "\n",
    "question = 'Talyor Swift 最新动态'\n",
    "\n",
    "inputs = {\n",
    "    'question': question,\n",
    "    'url': 'https://www.google.com/search?q=' + question.replace(' ', '+')  # 问题中的空格会变成加号\n",
    "}\n",
    "\n",
    "result = chain.run(inputs)\n",
    "result"
   ]
  },
  {
   "cell_type": "markdown",
   "metadata": {},
   "source": [
    "注意，我们拿到的结果仅仅是搜索出来的第一页介绍，并不涉及之后的检索页以及具体网页的内容。"
   ]
  }
 ],
 "metadata": {
  "kernelspec": {
   "display_name": "base",
   "language": "python",
   "name": "python3"
  },
  "language_info": {
   "codemirror_mode": {
    "name": "ipython",
    "version": 3
   },
   "file_extension": ".py",
   "mimetype": "text/x-python",
   "name": "python",
   "nbconvert_exporter": "python",
   "pygments_lexer": "ipython3",
   "version": "3.11.7"
  }
 },
 "nbformat": 4,
 "nbformat_minor": 2
}
