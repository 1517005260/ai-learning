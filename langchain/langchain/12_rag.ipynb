{
 "cells": [
  {
   "cell_type": "markdown",
   "metadata": {},
   "source": [
    "# 检索分割好的文档，并进行回答"
   ]
  },
  {
   "cell_type": "code",
   "execution_count": 1,
   "metadata": {},
   "outputs": [],
   "source": [
    "import shutup\n",
    "shutup.please()\n",
    "\n",
    "from langchain.chat_models import ChatOpenAI\n",
    "from dotenv import load_dotenv\n",
    "\n",
    "load_dotenv()\n",
    "\n",
    "llm = ChatOpenAI(model='qwen2:7b')"
   ]
  },
  {
   "cell_type": "code",
   "execution_count": 2,
   "metadata": {},
   "outputs": [
    {
     "data": {
      "text/plain": [
       "10"
      ]
     },
     "execution_count": 2,
     "metadata": {},
     "output_type": "execute_result"
    }
   ],
   "source": [
    "# 1. 加载并分割文档\n",
    "from langchain.text_splitter import RecursiveCharacterTextSplitter\n",
    "from langchain.document_loaders import PyMuPDFLoader\n",
    "\n",
    "loader = PyMuPDFLoader('rag_example/about.pdf')\n",
    "text_splitter = RecursiveCharacterTextSplitter(\n",
    "    chunk_size=100,\n",
    "    chunk_overlap=20\n",
    ")\n",
    "documents = loader.load_and_split(text_splitter)\n",
    "len(documents)"
   ]
  },
  {
   "cell_type": "code",
   "execution_count": 5,
   "metadata": {},
   "outputs": [
    {
     "data": {
      "text/plain": [
       "[Document(page_content='雄联盟宇宙中关于权力与自由的讨论。\\n角色与制作\\n剧集主要角色包括：\\n蔚（Vi）： 执着且勇敢的地下拳手。\\n金克丝（Jinx）： 具有不稳定精神状态的疯狂发明家。', metadata={'source': 'rag_example/about.pdf', 'file_path': 'rag_example/about.pdf', 'page': 0, 'total_pages': 2, 'format': 'PDF 1.4', 'title': 'a', 'author': '', 'subject': '', 'keywords': '', 'creator': 'Mozilla/5.0 (Windows NT 10.0; Win64; x64) AppleWebKit/537.36 (KHTML, like Gecko) HeadlessChrome/131.0.0.0 Safari/537.36', 'producer': 'Skia/PDF m131', 'creationDate': \"D:20241129070925+00'00'\", 'modDate': \"D:20241129070925+00'00'\", 'trapped': ''}),\n",
       " Document(page_content='亚等。\\n观众评价\\n第二季播出后在全球范围内引发热烈讨论，其精美的动画制作、紧凑的剧情和对角色内心的刻画收获了\\n观众的高度评价。不过，大结局也引发了一些争议，部分观众对剧情发展表达了不同意见。', metadata={'source': 'rag_example/about.pdf', 'file_path': 'rag_example/about.pdf', 'page': 0, 'total_pages': 2, 'format': 'PDF 1.4', 'title': 'a', 'author': '', 'subject': '', 'keywords': '', 'creator': 'Mozilla/5.0 (Windows NT 10.0; Win64; x64) AppleWebKit/537.36 (KHTML, like Gecko) HeadlessChrome/131.0.0.0 Safari/537.36', 'producer': 'Skia/PDF m131', 'creationDate': \"D:20241129070925+00'00'\", 'modDate': \"D:20241129070925+00'00'\", 'trapped': ''}),\n",
       " Document(page_content='情感张力： 角色间的互动和冲突极具感染力，情节紧张且深刻。\\n伏笔与彩蛋： 每一集都埋藏了与英雄联盟世界观相关的细节，吸引了大批游戏粉丝。\\n未来计划', metadata={'source': 'rag_example/about.pdf', 'file_path': 'rag_example/about.pdf', 'page': 0, 'total_pages': 2, 'format': 'PDF 1.4', 'title': 'a', 'author': '', 'subject': '', 'keywords': '', 'creator': 'Mozilla/5.0 (Windows NT 10.0; Win64; x64) AppleWebKit/537.36 (KHTML, like Gecko) HeadlessChrome/131.0.0.0 Safari/537.36', 'producer': 'Skia/PDF m131', 'creationDate': \"D:20241129070925+00'00'\", 'modDate': \"D:20241129070925+00'00'\", 'trapped': ''})]"
      ]
     },
     "execution_count": 5,
     "metadata": {},
     "output_type": "execute_result"
    }
   ],
   "source": [
    "# 2. 召回相似片段\n",
    "from langchain.embeddings import OpenAIEmbeddings\n",
    "from langchain.vectorstores.faiss import FAISS\n",
    "\n",
    "embedding = OpenAIEmbeddings(model='text-embedding-ada-002')\n",
    "\n",
    "documents_db = FAISS.from_documents(documents, embedding)\n",
    "\n",
    "question = '剧集主要角色包括?'\n",
    "retrieval_ducuments = documents_db.similarity_search(question, k=3)\n",
    "retrieval_ducuments"
   ]
  },
  {
   "cell_type": "code",
   "execution_count": 6,
   "metadata": {},
   "outputs": [
    {
     "name": "stdout",
     "output_type": "stream",
     "text": [
      "\n",
      "\n",
      "\u001b[1m> Entering new StuffDocumentsChain chain...\u001b[0m\n",
      "\n",
      "\n",
      "\u001b[1m> Entering new LLMChain chain...\u001b[0m\n",
      "Prompt after formatting:\n",
      "\u001b[32;1m\u001b[1;3mSystem: Use the following pieces of context to answer the user's question. \n",
      "If you don't know the answer, just say that you don't know, don't try to make up an answer.\n",
      "----------------\n",
      "雄联盟宇宙中关于权力与自由的讨论。\n",
      "角色与制作\n",
      "剧集主要角色包括：\n",
      "蔚（Vi）： 执着且勇敢的地下拳手。\n",
      "金克丝（Jinx）： 具有不稳定精神状态的疯狂发明家。\n",
      "\n",
      "亚等。\n",
      "观众评价\n",
      "第二季播出后在全球范围内引发热烈讨论，其精美的动画制作、紧凑的剧情和对角色内心的刻画收获了\n",
      "观众的高度评价。不过，大结局也引发了一些争议，部分观众对剧情发展表达了不同意见。\n",
      "\n",
      "情感张力： 角色间的互动和冲突极具感染力，情节紧张且深刻。\n",
      "伏笔与彩蛋： 每一集都埋藏了与英雄联盟世界观相关的细节，吸引了大批游戏粉丝。\n",
      "未来计划\n",
      "Human: 剧集主要角色包括?\u001b[0m\n",
      "\n",
      "\u001b[1m> Finished chain.\u001b[0m\n",
      "\n",
      "\u001b[1m> Finished chain.\u001b[0m\n"
     ]
    },
    {
     "data": {
      "text/plain": [
       "'剧集的主要角色包括：\\n\\n1. **蔚（Vi）**：一个执着且勇敢的地下拳手。\\n2. **金克丝（Jinx）**：一位具有不稳定精神状态的疯狂发明家。'"
      ]
     },
     "execution_count": 6,
     "metadata": {},
     "output_type": "execute_result"
    }
   ],
   "source": [
    "# 3. 基于召回片段问答\n",
    "from langchain.chains.question_answering import load_qa_chain\n",
    "\n",
    "chain = load_qa_chain(llm=llm, chain_type='stuff', verbose=True)\n",
    "result = chain.run(input_documents=retrieval_ducuments, question=question)\n",
    "result"
   ]
  }
 ],
 "metadata": {
  "kernelspec": {
   "display_name": "base",
   "language": "python",
   "name": "python3"
  },
  "language_info": {
   "codemirror_mode": {
    "name": "ipython",
    "version": 3
   },
   "file_extension": ".py",
   "mimetype": "text/x-python",
   "name": "python",
   "nbconvert_exporter": "python",
   "pygments_lexer": "ipython3",
   "version": "3.11.7"
  }
 },
 "nbformat": 4,
 "nbformat_minor": 2
}
