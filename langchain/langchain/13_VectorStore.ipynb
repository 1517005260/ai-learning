{
 "cells": [
  {
   "cell_type": "markdown",
   "metadata": {},
   "source": [
    "# 文档向量化存储\n",
    "\n",
    "之前的rag代码存在问题：每次提交问题时，都需要重新加载文档，然后向量化，这个流程是不太合理的。所以，我们需要把向量化之后的文档缓存下来，这样就不用每次都重新加载了。\n",
    "\n",
    "首先沿用之前的加载分割文档的逻辑："
   ]
  },
  {
   "cell_type": "code",
   "execution_count": 1,
   "metadata": {},
   "outputs": [
    {
     "data": {
      "text/plain": [
       "[Document(page_content='英雄联盟：双城之战》第二季简介\\n《英雄联盟：双城之战》（Arcane）是拳头公司（Riot Games）与法国动画工作室Fortiche联合制作的\\n原创动画剧集，基于英雄联盟的背景世界打造。第二季于2024年11月上线，共包含9集，继续讲述了皮\\n尔特沃夫（Piltover）与祖安（Zaun）之间复杂的矛盾与冲突。\\n剧情概述', metadata={'source': 'rag_example/about.pdf', 'file_path': 'rag_example/about.pdf', 'page': 0, 'total_pages': 2, 'format': 'PDF 1.4', 'title': 'a', 'author': '', 'subject': '', 'keywords': '', 'creator': 'Mozilla/5.0 (Windows NT 10.0; Win64; x64) AppleWebKit/537.36 (KHTML, like Gecko) HeadlessChrome/131.0.0.0 Safari/537.36', 'producer': 'Skia/PDF m131', 'creationDate': \"D:20241129070925+00'00'\", 'modDate': \"D:20241129070925+00'00'\", 'trapped': ''}),\n",
       " Document(page_content='剧情概述\\n第二季聚焦蔚（Vi）与金克丝（Jinx）之间复杂的情感与对立关系，同时引入了更多英雄联盟宇宙的重\\n要角色。剧中呈现了皮尔特沃夫和祖安两个城市在科技与魔法交织下的社会矛盾，以及在不断扩展的英\\n雄联盟宇宙中关于权力与自由的讨论。\\n角色与制作\\n剧集主要角色包括：\\n蔚（Vi）： 执着且勇敢的地下拳手。\\n金克丝（Jinx）： 具有不稳定精神状态的疯狂发明家。', metadata={'source': 'rag_example/about.pdf', 'file_path': 'rag_example/about.pdf', 'page': 0, 'total_pages': 2, 'format': 'PDF 1.4', 'title': 'a', 'author': '', 'subject': '', 'keywords': '', 'creator': 'Mozilla/5.0 (Windows NT 10.0; Win64; x64) AppleWebKit/537.36 (KHTML, like Gecko) HeadlessChrome/131.0.0.0 Safari/537.36', 'producer': 'Skia/PDF m131', 'creationDate': \"D:20241129070925+00'00'\", 'modDate': \"D:20241129070925+00'00'\", 'trapped': ''}),\n",
       " Document(page_content='杰斯（Jayce）： 希望用科技改变世界的理想主义者。\\n凯特琳（Caitlyn）： 皮尔特沃夫的警探，与蔚有紧密合作关系。\\n动画由Fortiche高水准制作，视觉效果震撼，细节处理到位，获得了观众的一致好评。\\n第二季亮点\\n视觉体验： 动画细节与风格再次升级，打造了充满未来感与蒸汽朋克风格的符文之地。\\n情感张力： 角色间的互动和冲突极具感染力，情节紧张且深刻。', metadata={'source': 'rag_example/about.pdf', 'file_path': 'rag_example/about.pdf', 'page': 0, 'total_pages': 2, 'format': 'PDF 1.4', 'title': 'a', 'author': '', 'subject': '', 'keywords': '', 'creator': 'Mozilla/5.0 (Windows NT 10.0; Win64; x64) AppleWebKit/537.36 (KHTML, like Gecko) HeadlessChrome/131.0.0.0 Safari/537.36', 'producer': 'Skia/PDF m131', 'creationDate': \"D:20241129070925+00'00'\", 'modDate': \"D:20241129070925+00'00'\", 'trapped': ''}),\n",
       " Document(page_content='伏笔与彩蛋： 每一集都埋藏了与英雄联盟世界观相关的细节，吸引了大批游戏粉丝。\\n未来计划\\n拳头公司确认第二季为《双城之战》的最终季，目前没有推出第三季的计划。然而，英雄联盟宇宙的影\\n视化项目仍在持续推进，后续剧集将探索符文之地其他地区的故事，包括艾欧尼亚、诺克萨斯和德玛西\\n亚等。\\n观众评价\\n第二季播出后在全球范围内引发热烈讨论，其精美的动画制作、紧凑的剧情和对角色内心的刻画收获了', metadata={'source': 'rag_example/about.pdf', 'file_path': 'rag_example/about.pdf', 'page': 0, 'total_pages': 2, 'format': 'PDF 1.4', 'title': 'a', 'author': '', 'subject': '', 'keywords': '', 'creator': 'Mozilla/5.0 (Windows NT 10.0; Win64; x64) AppleWebKit/537.36 (KHTML, like Gecko) HeadlessChrome/131.0.0.0 Safari/537.36', 'producer': 'Skia/PDF m131', 'creationDate': \"D:20241129070925+00'00'\", 'modDate': \"D:20241129070925+00'00'\", 'trapped': ''}),\n",
       " Document(page_content='观众的高度评价。不过，大结局也引发了一些争议，部分观众对剧情发展表达了不同意见。', metadata={'source': 'rag_example/about.pdf', 'file_path': 'rag_example/about.pdf', 'page': 0, 'total_pages': 2, 'format': 'PDF 1.4', 'title': 'a', 'author': '', 'subject': '', 'keywords': '', 'creator': 'Mozilla/5.0 (Windows NT 10.0; Win64; x64) AppleWebKit/537.36 (KHTML, like Gecko) HeadlessChrome/131.0.0.0 Safari/537.36', 'producer': 'Skia/PDF m131', 'creationDate': \"D:20241129070925+00'00'\", 'modDate': \"D:20241129070925+00'00'\", 'trapped': ''}),\n",
       " Document(page_content='观看方式\\n《双城之战》第二季可通过Netflix平台或其他地区的官方授权平台观看。\\n《英雄联盟：双城之战》是一场视觉与情感的盛宴，无论是忠实玩家还是新观众，都能从中感受到英雄\\n联盟宇宙的无限魅力。', metadata={'source': 'rag_example/about.pdf', 'file_path': 'rag_example/about.pdf', 'page': 1, 'total_pages': 2, 'format': 'PDF 1.4', 'title': 'a', 'author': '', 'subject': '', 'keywords': '', 'creator': 'Mozilla/5.0 (Windows NT 10.0; Win64; x64) AppleWebKit/537.36 (KHTML, like Gecko) HeadlessChrome/131.0.0.0 Safari/537.36', 'producer': 'Skia/PDF m131', 'creationDate': \"D:20241129070925+00'00'\", 'modDate': \"D:20241129070925+00'00'\", 'trapped': ''})]"
      ]
     },
     "execution_count": 1,
     "metadata": {},
     "output_type": "execute_result"
    }
   ],
   "source": [
    "import shutup\n",
    "shutup.please()\n",
    "from dotenv import load_dotenv\n",
    "load_dotenv()\n",
    "\n",
    "from langchain.text_splitter import RecursiveCharacterTextSplitter\n",
    "from langchain.document_loaders import PyMuPDFLoader\n",
    "\n",
    "loader_about = PyMuPDFLoader('rag_example/about.pdf')\n",
    "text_splitter = RecursiveCharacterTextSplitter(\n",
    "    chunk_size=200,\n",
    "    chunk_overlap=20\n",
    ")\n",
    "documents_about = loader_about.load_and_split(text_splitter)\n",
    "documents_about"
   ]
  },
  {
   "cell_type": "markdown",
   "metadata": {},
   "source": [
    "现在，我们需要把向量化文档存储在本地："
   ]
  },
  {
   "cell_type": "code",
   "execution_count": 2,
   "metadata": {},
   "outputs": [],
   "source": [
    "from langchain.embeddings import OpenAIEmbeddings\n",
    "from langchain.vectorstores.faiss import FAISS\n",
    "\n",
    "embedding = OpenAIEmbeddings(model='text-embedding-ada-002')\n",
    "\n",
    "documents_db = FAISS.from_documents(documents_about, embedding)\n",
    "documents_db.save_local('vector_db')"
   ]
  },
  {
   "cell_type": "markdown",
   "metadata": {},
   "source": [
    "存储在本地之后，就可以从存储中加载文件了："
   ]
  },
  {
   "cell_type": "code",
   "execution_count": 3,
   "metadata": {},
   "outputs": [
    {
     "data": {
      "text/plain": [
       "[Document(page_content='剧情概述\\n第二季聚焦蔚（Vi）与金克丝（Jinx）之间复杂的情感与对立关系，同时引入了更多英雄联盟宇宙的重\\n要角色。剧中呈现了皮尔特沃夫和祖安两个城市在科技与魔法交织下的社会矛盾，以及在不断扩展的英\\n雄联盟宇宙中关于权力与自由的讨论。\\n角色与制作\\n剧集主要角色包括：\\n蔚（Vi）： 执着且勇敢的地下拳手。\\n金克丝（Jinx）： 具有不稳定精神状态的疯狂发明家。', metadata={'source': 'rag_example/about.pdf', 'file_path': 'rag_example/about.pdf', 'page': 0, 'total_pages': 2, 'format': 'PDF 1.4', 'title': 'a', 'author': '', 'subject': '', 'keywords': '', 'creator': 'Mozilla/5.0 (Windows NT 10.0; Win64; x64) AppleWebKit/537.36 (KHTML, like Gecko) HeadlessChrome/131.0.0.0 Safari/537.36', 'producer': 'Skia/PDF m131', 'creationDate': \"D:20241129070925+00'00'\", 'modDate': \"D:20241129070925+00'00'\", 'trapped': ''}),\n",
       " Document(page_content='观众的高度评价。不过，大结局也引发了一些争议，部分观众对剧情发展表达了不同意见。', metadata={'source': 'rag_example/about.pdf', 'file_path': 'rag_example/about.pdf', 'page': 0, 'total_pages': 2, 'format': 'PDF 1.4', 'title': 'a', 'author': '', 'subject': '', 'keywords': '', 'creator': 'Mozilla/5.0 (Windows NT 10.0; Win64; x64) AppleWebKit/537.36 (KHTML, like Gecko) HeadlessChrome/131.0.0.0 Safari/537.36', 'producer': 'Skia/PDF m131', 'creationDate': \"D:20241129070925+00'00'\", 'modDate': \"D:20241129070925+00'00'\", 'trapped': ''}),\n",
       " Document(page_content='杰斯（Jayce）： 希望用科技改变世界的理想主义者。\\n凯特琳（Caitlyn）： 皮尔特沃夫的警探，与蔚有紧密合作关系。\\n动画由Fortiche高水准制作，视觉效果震撼，细节处理到位，获得了观众的一致好评。\\n第二季亮点\\n视觉体验： 动画细节与风格再次升级，打造了充满未来感与蒸汽朋克风格的符文之地。\\n情感张力： 角色间的互动和冲突极具感染力，情节紧张且深刻。', metadata={'source': 'rag_example/about.pdf', 'file_path': 'rag_example/about.pdf', 'page': 0, 'total_pages': 2, 'format': 'PDF 1.4', 'title': 'a', 'author': '', 'subject': '', 'keywords': '', 'creator': 'Mozilla/5.0 (Windows NT 10.0; Win64; x64) AppleWebKit/537.36 (KHTML, like Gecko) HeadlessChrome/131.0.0.0 Safari/537.36', 'producer': 'Skia/PDF m131', 'creationDate': \"D:20241129070925+00'00'\", 'modDate': \"D:20241129070925+00'00'\", 'trapped': ''})]"
      ]
     },
     "execution_count": 3,
     "metadata": {},
     "output_type": "execute_result"
    }
   ],
   "source": [
    "documents_db = FAISS.load_local('./vector_db', embedding)\n",
    "documents_db.similarity_search('剧集的主要角色有谁？', k=3)"
   ]
  },
  {
   "cell_type": "markdown",
   "metadata": {},
   "source": [
    "文档的增量更新："
   ]
  },
  {
   "cell_type": "code",
   "execution_count": 4,
   "metadata": {},
   "outputs": [
    {
     "data": {
      "text/plain": [
       "6"
      ]
     },
     "execution_count": 4,
     "metadata": {},
     "output_type": "execute_result"
    }
   ],
   "source": [
    "len(documents_db.docstore._dict)"
   ]
  },
  {
   "cell_type": "code",
   "execution_count": 5,
   "metadata": {},
   "outputs": [
    {
     "data": {
      "text/plain": [
       "7"
      ]
     },
     "execution_count": 5,
     "metadata": {},
     "output_type": "execute_result"
    }
   ],
   "source": [
    "documents_db_more = FAISS.from_texts([\n",
    "    '这是一段需要追加的新文本'\n",
    "], embedding)\n",
    "documents_db.merge_from(documents_db_more)\n",
    "len(documents_db.docstore._dict)"
   ]
  }
 ],
 "metadata": {
  "kernelspec": {
   "display_name": "base",
   "language": "python",
   "name": "python3"
  },
  "language_info": {
   "codemirror_mode": {
    "name": "ipython",
    "version": 3
   },
   "file_extension": ".py",
   "mimetype": "text/x-python",
   "name": "python",
   "nbconvert_exporter": "python",
   "pygments_lexer": "ipython3",
   "version": "3.11.7"
  }
 },
 "nbformat": 4,
 "nbformat_minor": 2
}
