{
 "cells": [
  {
   "cell_type": "markdown",
   "metadata": {},
   "source": [
    "# 顺序链\n",
    "\n",
    "顺序链在基础链LLMchain的基础上，可以组合处理更复杂的任务。\n",
    "\n",
    "示例：调用两次模型来解决“给公司起名字，并挑选出一个最好的”。\n",
    "\n",
    "1）模型生成名字 2）模型接收名字，并挑一个最好的。"
   ]
  },
  {
   "cell_type": "code",
   "execution_count": 1,
   "metadata": {},
   "outputs": [
    {
     "data": {
      "text/plain": [
       "True"
      ]
     },
     "execution_count": 1,
     "metadata": {},
     "output_type": "execute_result"
    }
   ],
   "source": [
    "import shutup\n",
    "shutup.please()\n",
    "from dotenv import load_dotenv\n",
    "load_dotenv()"
   ]
  },
  {
   "cell_type": "code",
   "execution_count": 2,
   "metadata": {},
   "outputs": [],
   "source": [
    "from langchain.chat_models import ChatOpenAI\n",
    "llm = ChatOpenAI(model='qwen2:7b')\n",
    "\n",
    "from langchain.chains import LLMChain\n",
    "from langchain.chains import SequentialChain\n",
    "from langchain.prompts import PromptTemplate"
   ]
  },
  {
   "cell_type": "code",
   "execution_count": 6,
   "metadata": {},
   "outputs": [
    {
     "name": "stdout",
     "output_type": "stream",
     "text": [
      "\n",
      "\n",
      "\u001b[1m> Entering new LLMChain chain...\u001b[0m\n",
      "Prompt after formatting:\n",
      "\u001b[32;1m\u001b[1;3m有一家公司的创始人叫路人甲，主要从事人工智能，请帮这家公司起10个中文名字，要求包含创始人的名字。\u001b[0m\n",
      "\n",
      "\u001b[1m> Finished chain.\u001b[0m\n"
     ]
    },
    {
     "data": {
      "text/plain": [
       "'为一家以人工智能为主要业务的公司，结合创始人“路人甲”的名字来命名，可以考虑以下十种不同的中文名称：\\n\\n1. **路人甲智策科技**：强调了创始人与公司的核心竞争力是智慧策略和科技创新。\\n2. **甲途智能系统**：利用“甲”字作为起点，“途”则代表了路径、道路的意象，象征着通往未来的技术探索之路。\\n3. **甲界AI创新**：突出了公司在人工智能领域的创新精神和领导地位。\\n4. **路人甲智慧云**：强调了公司对云计算技术的应用与整合。\\n5. **甲匠智能科技**：“甲匠”寓意精工细作，代表了公司对技术研发的专注和追求卓越的精神。\\n6. **路人甲未来智谷**：将“未来智谷”作为公司的品牌定位，暗示公司在人工智能领域探索前沿技术的决心。\\n7. **甲行者AI解决方案**：表达了公司提供先进AI解决方案的理念和服务导向。\\n8. **甲视界智能研发**：强调了在视觉识别与分析方面的专业能力和研发实力。\\n9. **路人甲AI创新实验室**：凸显公司的研究与开发职能，专注于人工智能领域的技术创新和应用探索。\\n10. **甲流科技智能驱动**：通过“甲流”传达了公司在技术变革中的引领角色，以及对未来的持续推动。\\n\\n这些名称都试图将创始人的名字巧妙融入公司命名中，同时结合了人工智能、创新、未来等关键词，以体现公司的业务特色和愿景。'"
      ]
     },
     "execution_count": 6,
     "metadata": {},
     "output_type": "execute_result"
    }
   ],
   "source": [
    "prompt1 = PromptTemplate.from_template(\n",
    "    '有一家公司的创始人叫{name}，主要从事人工智能，请帮这家公司起10个中文名字，要求包含创始人的名字。'\n",
    ")\n",
    "\n",
    "chain1 = LLMChain(llm=llm, prompt=prompt1, \n",
    "                  output_key='company_name',   # 结果是kv对，这里指定了结果的key，要求与下一个chain的key对应\n",
    "                  verbose=True)   # 调试模式\n",
    "chain1.predict(name='路人甲')"
   ]
  },
  {
   "cell_type": "code",
   "execution_count": 8,
   "metadata": {},
   "outputs": [
    {
     "name": "stdout",
     "output_type": "stream",
     "text": [
      "\n",
      "\n",
      "\u001b[1m> Entering new LLMChain chain...\u001b[0m\n",
      "Prompt after formatting:\n",
      "\u001b[32;1m\u001b[1;3m有一家公司的创始人叫路人甲，主要从事人工智能，请帮这家公司起10个中文名字，要求包含创始人的名字。\u001b[0m\n",
      "\n",
      "\u001b[1m> Finished chain.\u001b[0m\n",
      "\n",
      "\n",
      "\u001b[1m> Entering new LLMChain chain...\u001b[0m\n",
      "Prompt after formatting:\n",
      "\u001b[32;1m\u001b[1;3m请从以下公司名字中，选出你认为最好的一个：\n",
      " 为这家以人工智能为主要业务的公司起名时，我们可以结合创始人“路人甲”的名字，创造一些既有科技感又蕴含创新和个性的名字。下面是十款可能的名字建议：\n",
      "\n",
      "1. **路甲智能**：直接将创始人名字与“智能”结合，简洁明了地表达了公司的核心业务。\n",
      "2. **甲途AI**：通过“甲途”暗示公司致力于引领未来的道路，“AI”则明确指出主营业务是人工智能技术。\n",
      "3. **路人甲智境**：将“路人甲”融入“智慧境界”的概念中，强调公司不仅有创新精神，还有广阔的视野和深邃的思考。\n",
      "4. **甲迹科技**：“甲迹”可以理解为留下足迹或痕迹，暗含公司在科技领域中的独特贡献与影响力。\n",
      "5. **路甲未来**：突出创始人对未来的愿景，“未来”二字也暗示了公司致力于探索和开发新技术以引领未来发展。\n",
      "6. **路人甲智领**：通过“智领”，强调公司的技术领导地位，表达了在人工智能领域的前瞻性。\n",
      "7. **甲域智能科技**：“甲域”可以理解为特定的领域或空间，“智能科技”则明确指出了业务方向。\n",
      "8. **路人甲创想**：结合了创始人的名字和“创造想象”的概念，暗示公司不仅提供技术解决方案，还激发创新思维。\n",
      "9. **甲行智慧**：“甲行”可能象征行动与实践，“智慧”则强调公司的智能解决方案和知识积累。\n",
      "10. **路人甲智源**：“智源”可以理解为智慧的源泉或资源，“路人甲”的部分融入，表明公司在人工智能领域的独特贡献。\n",
      "\n",
      "每个名字都试图捕捉“路人甲”作为一个公司名称的核心意义，并结合人工智能的主题，创造富有创意且易于记忆的名字。\u001b[0m\n",
      "\n",
      "\u001b[1m> Finished chain.\u001b[0m\n"
     ]
    },
    {
     "data": {
      "text/plain": [
       "'从这十个选项中选出最好的一个取决于对名称风格、内涵和品牌定位的个人喜好或特定需求。如果我需要给出建议，我会倾向于选择“路人甲智境”。这个名称融合了创始人的名字（“路人甲”），强调了创新精神（“智”）与广阔的视野（“境”），同时巧妙地结合了人工智能的主题。这样的命名不仅富有科技感和前瞻性，还蕴含了一种探索未知、追求卓越的意象，这对于以人工智能为主要业务的公司来说是一个很好的品牌定位。此外，“智境”这个双关语既表达了对智慧境界的追求，也暗示着公司在技术领域的领先地位。\\n\\n当然，在实际应用中，还需要考虑名称的独特性、易读性、全球文化适应性和是否有商标注册的可能性等多方面因素。选择最合适的公司名称是一项综合考量和决策的过程。'"
      ]
     },
     "execution_count": 8,
     "metadata": {},
     "output_type": "execute_result"
    }
   ],
   "source": [
    "company_name = chain1.predict(name='路人甲')\n",
    "prompt2 = PromptTemplate.from_template(\n",
    "    '请从以下公司名字中，选出你认为最好的一个：\\n {company_name}'\n",
    ")\n",
    "\n",
    "chain2 = LLMChain(llm=llm, prompt=prompt2, verbose=True)\n",
    "chain2.predict(company_name=company_name)"
   ]
  },
  {
   "cell_type": "markdown",
   "metadata": {},
   "source": [
    "刚刚是在自定义顺序链，这里有更简洁的方式："
   ]
  },
  {
   "cell_type": "code",
   "execution_count": 9,
   "metadata": {},
   "outputs": [
    {
     "name": "stdout",
     "output_type": "stream",
     "text": [
      "\n",
      "\n",
      "\u001b[1m> Entering new SequentialChain chain...\u001b[0m\n",
      "\n",
      "\n",
      "\u001b[1m> Entering new LLMChain chain...\u001b[0m\n",
      "Prompt after formatting:\n",
      "\u001b[32;1m\u001b[1;3m有一家公司的创始人叫路人甲，主要从事人工智能，请帮这家公司起10个中文名字，要求包含创始人的名字。\u001b[0m\n",
      "\n",
      "\u001b[1m> Finished chain.\u001b[0m\n",
      "\n",
      "\n",
      "\u001b[1m> Entering new LLMChain chain...\u001b[0m\n",
      "Prompt after formatting:\n",
      "\u001b[32;1m\u001b[1;3m请从以下公司名字中，选出你认为最好的一个：\n",
      " 为一家以创始人“路人甲”为核心，并从事人工智能业务的公司起名时，可以从以下几个角度入手：\n",
      "\n",
      "1. **甲智科技**：直接将“甲”作为个人品牌元素融入公司名称，强调创始人在公司中的核心地位。\n",
      "\n",
      "2. **路人甲AI**：这个名字清晰地展示了公司的主营业务和创始人身份，易于识别和记忆。\n",
      "\n",
      "3. **甲启智能**：“甲启”寓意着创始人的启发与引领，“智能”则直接指出了公司所从事的技术领域。\n",
      "\n",
      "4. **路人甲数智**：结合“数”（数字科技）与“智”，强调公司在数字化、智能化方面的业务，同时突出创始人名字的元素。\n",
      "\n",
      "5. **甲见未来**：表达了公司致力于探索和创造未来的愿景，同时也暗示了创始人的远见和影响力。\n",
      "\n",
      "6. **甲创智慧**：“甲创”代表创新，“智慧”则指出了人工智能的核心价值所在。\n",
      "\n",
      "7. **路人甲智途**：强调了在智能科技领域中的道路与方向，暗示公司将在该领域引领前行。\n",
      "\n",
      "8. **甲领AI**：直接将“甲领”放在AI之前，突显创始人对公司的领导地位和核心贡献。\n",
      "\n",
      "9. **甲融智慧**：“甲融”意味着融合，“智慧”则是公司业务的特色。这个名字强调了公司通过整合各种资源来实现智能解决方案的能力。\n",
      "\n",
      "10. **路人甲智驱**：结合“智驱”，寓意在人工智能驱动下的创新与进步，同时反映出公司的动力来源和目标愿景。\n",
      "\n",
      "这些名字都旨在体现创始人的身份、公司的主营业务以及追求的目标，希望其中能够有适合您想象中的名称。\u001b[0m\n",
      "\n",
      "\u001b[1m> Finished chain.\u001b[0m\n",
      "\n",
      "\u001b[1m> Finished chain.\u001b[0m\n"
     ]
    },
    {
     "data": {
      "text/plain": [
       "'从这十个选项中选出最好的公司名称，确实取决于公司的具体定位、品牌故事和目标受众的偏好。但如果考虑全面性、创新性和容易记忆等因素：\\n\\n1. **甲智科技**（甲智）：这个名称简洁明了地将创始人身份与人工智能业务结合，易于理解且具有一定的前瞻性。\\n\\n2. **路人甲AI**：直接点出“路人甲”作为核心，并强调人工智能业务，名字独特，容易在众多公司中脱颖而出。\\n\\n3. **甲启智能**：“甲启”寓意深远，既体现了创始人的引领作用，又突出了公司的技术方向，整体来说是一个平衡且具有象征意义的名称。\\n\\n4. **甲见未来**：这个名称充满了创新和未来感，对于那些追求前瞻性和技术创新的公司非常合适。同时，“见”字也暗示了公司有独特的视角和洞察力。\\n\\n5. **路人甲数智**：结合“数”与“智”，强调公司在数字化和智能化领域的业务，这个名字既体现了技术实力，又具有一定的现代感。\\n\\n如果要选出一个，我会偏向于“路人甲AI”或“甲启智能”。选择“路人甲AI”的原因是它的直接性和易记性；而“甲启智能”则因其蕴含的深刻寓意和平衡的表达方式。最终的选择应该基于公司想要传达的品牌形象、市场定位以及目标受众的偏好。'"
      ]
     },
     "execution_count": 9,
     "metadata": {},
     "output_type": "execute_result"
    }
   ],
   "source": [
    "chain = SequentialChain(chains=[chain1, chain2], input_variables=['name'], verbose=True)\n",
    "result = chain.run({'name':'路人甲'})\n",
    "result"
   ]
  }
 ],
 "metadata": {
  "kernelspec": {
   "display_name": "base",
   "language": "python",
   "name": "python3"
  },
  "language_info": {
   "codemirror_mode": {
    "name": "ipython",
    "version": 3
   },
   "file_extension": ".py",
   "mimetype": "text/x-python",
   "name": "python",
   "nbconvert_exporter": "python",
   "pygments_lexer": "ipython3",
   "version": "3.11.7"
  }
 },
 "nbformat": 4,
 "nbformat_minor": 2
}
