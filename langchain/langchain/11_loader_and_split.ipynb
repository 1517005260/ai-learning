{
 "cells": [
  {
   "cell_type": "markdown",
   "metadata": {},
   "source": [
    "# 常见文档（txt, pdf, csv等）的加载与分割\n",
    "\n",
    "详细文档见[rag_example](./rag_example/)"
   ]
  },
  {
   "cell_type": "markdown",
   "metadata": {},
   "source": [
    "这里如果是windows可能会报错：ModuleNotFoundError: No module named 'pwd'\n",
    "\n",
    "解决：\n",
    "\n",
    "```bash\n",
    "pip install langchain==0.1.6 langchain-community==0.0.19 langchain-core==0.1.23\n",
    "```"
   ]
  },
  {
   "cell_type": "markdown",
   "metadata": {},
   "source": [
    "## 文档的加载"
   ]
  },
  {
   "cell_type": "code",
   "execution_count": 6,
   "metadata": {},
   "outputs": [
    {
     "data": {
      "text/plain": [
       "[Document(page_content='序号: 1\\n问题: 《双城之战》第二季什么时候播出？\\n答案: 第二季于2024年11月上线，大结局于11月23日播出。', metadata={'source': 'rag_example/about.csv', 'row': 0}),\n",
       " Document(page_content='序号: 2\\n问题: 《双城之战》第二季共有多少集？\\n答案: 第二季共有9集。', metadata={'source': 'rag_example/about.csv', 'row': 1}),\n",
       " Document(page_content='序号: 3\\n问题: 《双城之战》的故事背景是什么？\\n答案: 故事背景设定在皮尔特沃夫与祖安，围绕科技与信念冲突展开。', metadata={'source': 'rag_example/about.csv', 'row': 2}),\n",
       " Document(page_content='序号: 4\\n问题: 《双城之战》的主要角色有哪些？\\n答案: 蔚（Vi）、金克丝（Jinx）、杰斯（Jayce）、凯特琳（Caitlyn）等。', metadata={'source': 'rag_example/about.csv', 'row': 3}),\n",
       " Document(page_content='序号: 5\\n问题: 《双城之战》是哪个工作室制作的？\\n答案: 由法国动画工作室Fortiche制作，拳头游戏监督。', metadata={'source': 'rag_example/about.csv', 'row': 4}),\n",
       " Document(page_content='序号: 6\\n问题: 《双城之战》是否会有第三季？\\n答案: 第二季为最终季，目前没有第三季计划。', metadata={'source': 'rag_example/about.csv', 'row': 5}),\n",
       " Document(page_content='序号: 7\\n问题: 《双城之战》的视觉效果如何？\\n答案: 第二季视觉效果获高度评价，动画制作极为精美。', metadata={'source': 'rag_example/about.csv', 'row': 6}),\n",
       " Document(page_content='序号: 8\\n问题: 《双城之战》的新剧集计划是什么？\\n答案: 拳头公司计划制作以符文之地其他地区为背景的新剧集。', metadata={'source': 'rag_example/about.csv', 'row': 7}),\n",
       " Document(page_content='序号: 9\\n问题: 《双城之战》第二季的豆瓣评分是多少？\\n答案: 第二季获得了高度评价，但具体评分需参考豆瓣实时更新。', metadata={'source': 'rag_example/about.csv', 'row': 8}),\n",
       " Document(page_content='序号: 10\\n问题: 《双城之战》的大结局引发了哪些讨论？\\n答案: 结局引发观众对情感张力与剧情发展的讨论，有赞扬也有争议。', metadata={'source': 'rag_example/about.csv', 'row': 9})]"
      ]
     },
     "execution_count": 6,
     "metadata": {},
     "output_type": "execute_result"
    }
   ],
   "source": [
    "from langchain.document_loaders import CSVLoader\n",
    "\n",
    "loader = CSVLoader('rag_example/about.csv')\n",
    "loader.load()\n"
   ]
  },
  {
   "cell_type": "markdown",
   "metadata": {},
   "source": [
    "可见，csv的读取就是按行读取，并且在每行拼接了表名"
   ]
  },
  {
   "cell_type": "code",
   "execution_count": 8,
   "metadata": {},
   "outputs": [
    {
     "data": {
      "text/plain": [
       "([Document(page_content='英雄联盟：双城之战》第二季简介\\n《英雄联盟：双城之战》（Arcane）是拳头公司（Riot Games）与法国动画工作室Fortiche联合制作的\\n原创动画剧集，基于英雄联盟的背景世界打造。第二季于2024年11月上线，共包含9集，继续讲述了皮\\n尔特沃夫（Piltover）与祖安（Zaun）之间复杂的矛盾与冲突。\\n剧情概述\\n第二季聚焦蔚（Vi）与金克丝（Jinx）之间复杂的情感与对立关系，同时引入了更多英雄联盟宇宙的重\\n要角色。剧中呈现了皮尔特沃夫和祖安两个城市在科技与魔法交织下的社会矛盾，以及在不断扩展的英\\n雄联盟宇宙中关于权力与自由的讨论。\\n角色与制作\\n剧集主要角色包括：\\n蔚（Vi）： 执着且勇敢的地下拳手。\\n金克丝（Jinx）： 具有不稳定精神状态的疯狂发明家。\\n杰斯（Jayce）： 希望用科技改变世界的理想主义者。\\n凯特琳（Caitlyn）： 皮尔特沃夫的警探，与蔚有紧密合作关系。\\n动画由Fortiche高水准制作，视觉效果震撼，细节处理到位，获得了观众的一致好评。\\n第二季亮点\\n视觉体验： 动画细节与风格再次升级，打造了充满未来感与蒸汽朋克风格的符文之地。\\n情感张力： 角色间的互动和冲突极具感染力，情节紧张且深刻。\\n伏笔与彩蛋： 每一集都埋藏了与英雄联盟世界观相关的细节，吸引了大批游戏粉丝。\\n未来计划\\n拳头公司确认第二季为《双城之战》的最终季，目前没有推出第三季的计划。然而，英雄联盟宇宙的影\\n视化项目仍在持续推进，后续剧集将探索符文之地其他地区的故事，包括艾欧尼亚、诺克萨斯和德玛西\\n亚等。\\n观众评价\\n第二季播出后在全球范围内引发热烈讨论，其精美的动画制作、紧凑的剧情和对角色内心的刻画收获了\\n观众的高度评价。不过，大结局也引发了一些争议，部分观众对剧情发展表达了不同意见。\\n', metadata={'source': 'rag_example/about.pdf', 'file_path': 'rag_example/about.pdf', 'page': 0, 'total_pages': 2, 'format': 'PDF 1.4', 'title': 'a', 'author': '', 'subject': '', 'keywords': '', 'creator': 'Mozilla/5.0 (Windows NT 10.0; Win64; x64) AppleWebKit/537.36 (KHTML, like Gecko) HeadlessChrome/131.0.0.0 Safari/537.36', 'producer': 'Skia/PDF m131', 'creationDate': \"D:20241129070925+00'00'\", 'modDate': \"D:20241129070925+00'00'\", 'trapped': ''}),\n",
       "  Document(page_content='观看方式\\n《双城之战》第二季可通过Netflix平台或其他地区的官方授权平台观看。\\n《英雄联盟：双城之战》是一场视觉与情感的盛宴，无论是忠实玩家还是新观众，都能从中感受到英雄\\n联盟宇宙的无限魅力。\\n', metadata={'source': 'rag_example/about.pdf', 'file_path': 'rag_example/about.pdf', 'page': 1, 'total_pages': 2, 'format': 'PDF 1.4', 'title': 'a', 'author': '', 'subject': '', 'keywords': '', 'creator': 'Mozilla/5.0 (Windows NT 10.0; Win64; x64) AppleWebKit/537.36 (KHTML, like Gecko) HeadlessChrome/131.0.0.0 Safari/537.36', 'producer': 'Skia/PDF m131', 'creationDate': \"D:20241129070925+00'00'\", 'modDate': \"D:20241129070925+00'00'\", 'trapped': ''})],\n",
       " [Document(page_content='## 英雄联盟：双城之战》第二季简介\\n\\n《英雄联盟：双城之战》（Arcane）是拳头公司（Riot Games）与法国动画工作室Fortiche联合制作的原创动画剧集，基于英雄联盟的背景世界打造。第二季于2024年11月上线，共包含9集，继续讲述了皮尔特沃夫（Piltover）与祖安（Zaun）之间复杂的矛盾与冲突。\\n\\n### 剧情概述\\n\\n第二季聚焦蔚（Vi）与金克丝（Jinx）之间复杂的情感与对立关系，同时引入了更多英雄联盟宇宙的重要角色。剧中呈现了皮尔特沃夫和祖安两个城市在科技与魔法交织下的社会矛盾，以及在不断扩展的英雄联盟宇宙中关于权力与自由的讨论。\\n\\n### 角色与制作\\n\\n剧集主要角色包括：\\n\\n- 蔚（Vi）： 执着且勇敢的地下拳手。\\n\\n- 金克丝（Jinx）： 具有不稳定精神状态的疯狂发明家。\\n\\n- 杰斯（Jayce）： 希望用科技改变世界的理想主义者。\\n\\n- 凯特琳（Caitlyn）： 皮尔特沃夫的警探，与蔚有紧密合作关系。\\n\\n动画由Fortiche高水准制作，视觉效果震撼，细节处理到位，获得了观众的一致好评。\\n\\n### 第二季亮点\\n\\n- 视觉体验： 动画细节与风格再次升级，打造了充满未来感与蒸汽朋克风格的符文之地。\\n\\n- 情感张力： 角色间的互动和冲突极具感染力，情节紧张且深刻。\\n\\n- 伏笔与彩蛋： 每一集都埋藏了与英雄联盟世界观相关的细节，吸引了大批游戏粉丝。\\n\\n### 未来计划\\n\\n拳头公司确认第二季为《双城之战》的最终季，目前没有推出第三季的计划。然而，英雄联盟宇宙的影视化项目仍在持续推进，后续剧集将探索符文之地其他地区的故事，包括艾欧尼亚、诺克萨斯和德玛西亚等。\\n\\n### 观众评价\\n\\n第二季播出后在全球范围内引发热烈讨论，其精美的动画制作、紧凑的剧情和对角色内心的刻画收获了观众的高度评价。不过，大结局也引发了一些争议，部分观众对剧情发展表达了不同意见。\\n\\n### 观看方式\\n\\n《双城之战》第二季可通过Netflix平台或其他地区的官方授权平台观看。\\n\\n《英雄联盟：双城之战》是一场视觉与情感的盛宴，无论是忠实玩家还是新观众，都能从中感受到英雄联盟宇宙的无限魅力。\\n\\n', metadata={'source': 'rag_example/about.txt'})])"
      ]
     },
     "execution_count": 8,
     "metadata": {},
     "output_type": "execute_result"
    }
   ],
   "source": [
    "# pip install pymupdf\n",
    "from langchain.document_loaders import TextLoader, PyMuPDFLoader\n",
    "\n",
    "loader1 = PyMuPDFLoader('rag_example/about.pdf')\n",
    "loader2 = TextLoader('rag_example/about.txt')\n",
    "loader1.load(), loader2.load()"
   ]
  },
  {
   "cell_type": "markdown",
   "metadata": {},
   "source": [
    "## 文档分割\n",
    "\n",
    "加载完成后，需要对文档进行分割，大段文字分割为小段是有利于后续做索引的。分割时，需要指定分割的 chunk 长度，和重叠部分的长度，适当的 chunk 大小和重叠，可以提升处理长文本的流畅性和连贯性。如果没有重叠部分，相当于链表的链断了，各个文本块之间是孤立无联系的。"
   ]
  },
  {
   "cell_type": "code",
   "execution_count": 10,
   "metadata": {},
   "outputs": [
    {
     "data": {
      "text/plain": [
       "([Document(page_content='## 英雄联盟：双城之战》第二季简介', metadata={'source': 'rag_example/about.txt'}),\n",
       "  Document(page_content='《英雄联盟：双城之战》（Arcane）是拳头公司（Riot', metadata={'source': 'rag_example/about.txt'}),\n",
       "  Document(page_content='Games）与法国动画工作室Fortiche联合制作的原创动画剧集，基于英雄联盟的背景世界打造。第', metadata={'source': 'rag_example/about.txt'}),\n",
       "  Document(page_content='动画剧集，基于英雄联盟的背景世界打造。第二季于2024年11月上线，共包含9集，继续讲述了皮尔特沃夫', metadata={'source': 'rag_example/about.txt'}),\n",
       "  Document(page_content='月上线，共包含9集，继续讲述了皮尔特沃夫（Piltover）与祖安（Zaun）之间复杂的矛盾与冲突。', metadata={'source': 'rag_example/about.txt'}),\n",
       "  Document(page_content='### 剧情概述', metadata={'source': 'rag_example/about.txt'}),\n",
       "  Document(page_content='第二季聚焦蔚（Vi）与金克丝（Jinx）之间复杂的情感与对立关系，同时引入了更多英雄联盟宇宙的重要', metadata={'source': 'rag_example/about.txt'}),\n",
       "  Document(page_content='立关系，同时引入了更多英雄联盟宇宙的重要角色。剧中呈现了皮尔特沃夫和祖安两个城市在科技与魔法交织下的', metadata={'source': 'rag_example/about.txt'}),\n",
       "  Document(page_content='特沃夫和祖安两个城市在科技与魔法交织下的社会矛盾，以及在不断扩展的英雄联盟宇宙中关于权力与自由的讨论', metadata={'source': 'rag_example/about.txt'}),\n",
       "  Document(page_content='扩展的英雄联盟宇宙中关于权力与自由的讨论。', metadata={'source': 'rag_example/about.txt'}),\n",
       "  Document(page_content='### 角色与制作\\n\\n剧集主要角色包括：\\n\\n- 蔚（Vi）： 执着且勇敢的地下拳手。', metadata={'source': 'rag_example/about.txt'}),\n",
       "  Document(page_content='- 金克丝（Jinx）： 具有不稳定精神状态的疯狂发明家。', metadata={'source': 'rag_example/about.txt'}),\n",
       "  Document(page_content='- 杰斯（Jayce）： 希望用科技改变世界的理想主义者。', metadata={'source': 'rag_example/about.txt'}),\n",
       "  Document(page_content='- 凯特琳（Caitlyn）： 皮尔特沃夫的警探，与蔚有紧密合作关系。', metadata={'source': 'rag_example/about.txt'}),\n",
       "  Document(page_content='动画由Fortiche高水准制作，视觉效果震撼，细节处理到位，获得了观众的一致好评。', metadata={'source': 'rag_example/about.txt'}),\n",
       "  Document(page_content='### 第二季亮点', metadata={'source': 'rag_example/about.txt'}),\n",
       "  Document(page_content='- 视觉体验： 动画细节与风格再次升级，打造了充满未来感与蒸汽朋克风格的符文之地。', metadata={'source': 'rag_example/about.txt'}),\n",
       "  Document(page_content='- 情感张力： 角色间的互动和冲突极具感染力，情节紧张且深刻。', metadata={'source': 'rag_example/about.txt'}),\n",
       "  Document(page_content='- 伏笔与彩蛋： 每一集都埋藏了与英雄联盟世界观相关的细节，吸引了大批游戏粉丝。', metadata={'source': 'rag_example/about.txt'}),\n",
       "  Document(page_content='### 未来计划', metadata={'source': 'rag_example/about.txt'}),\n",
       "  Document(page_content='拳头公司确认第二季为《双城之战》的最终季，目前没有推出第三季的计划。然而，英雄联盟宇宙的影视化项目', metadata={'source': 'rag_example/about.txt'}),\n",
       "  Document(page_content='季的计划。然而，英雄联盟宇宙的影视化项目仍在持续推进，后续剧集将探索符文之地其他地区的故事，包括艾欧', metadata={'source': 'rag_example/about.txt'}),\n",
       "  Document(page_content='集将探索符文之地其他地区的故事，包括艾欧尼亚、诺克萨斯和德玛西亚等。', metadata={'source': 'rag_example/about.txt'}),\n",
       "  Document(page_content='### 观众评价', metadata={'source': 'rag_example/about.txt'}),\n",
       "  Document(page_content='第二季播出后在全球范围内引发热烈讨论，其精美的动画制作、紧凑的剧情和对角色内心的刻画收获了观众的高', metadata={'source': 'rag_example/about.txt'}),\n",
       "  Document(page_content='凑的剧情和对角色内心的刻画收获了观众的高度评价。不过，大结局也引发了一些争议，部分观众对剧情发展表达', metadata={'source': 'rag_example/about.txt'}),\n",
       "  Document(page_content='也引发了一些争议，部分观众对剧情发展表达了不同意见。', metadata={'source': 'rag_example/about.txt'}),\n",
       "  Document(page_content='### 观看方式\\n\\n《双城之战》第二季可通过Netflix平台或其他地区的官方授权平台观看。', metadata={'source': 'rag_example/about.txt'}),\n",
       "  Document(page_content='《英雄联盟：双城之战》是一场视觉与情感的盛宴，无论是忠实玩家还是新观众，都能从中感受到英雄联盟宇宙', metadata={'source': 'rag_example/about.txt'}),\n",
       "  Document(page_content='家还是新观众，都能从中感受到英雄联盟宇宙的无限魅力。', metadata={'source': 'rag_example/about.txt'})],\n",
       " 30)"
      ]
     },
     "execution_count": 10,
     "metadata": {},
     "output_type": "execute_result"
    }
   ],
   "source": [
    "from langchain.text_splitter import RecursiveCharacterTextSplitter\n",
    "\n",
    "text_splitter = RecursiveCharacterTextSplitter(\n",
    "    # separator = ['\\n\\n', '\\n', ' ', ''],  # 默认分隔符为换行和空格； ‘’ 表示按字切，即无指定分隔符\n",
    "    chunk_size = 50,  # 文本块大小，default:4000，一般为500\n",
    "    chunk_overlap = 20,  # 文本块重叠部分大小， default:200， 一般为100 or 200\n",
    "    )\n",
    "\n",
    "loader = TextLoader('rag_example/about.txt')\n",
    "documents = loader.load_and_split(text_splitter)\n",
    "\n",
    "documents,len(documents)"
   ]
  }
 ],
 "metadata": {
  "kernelspec": {
   "display_name": "base",
   "language": "python",
   "name": "python3"
  },
  "language_info": {
   "codemirror_mode": {
    "name": "ipython",
    "version": 3
   },
   "file_extension": ".py",
   "mimetype": "text/x-python",
   "name": "python",
   "nbconvert_exporter": "python",
   "pygments_lexer": "ipython3",
   "version": "3.11.7"
  }
 },
 "nbformat": 4,
 "nbformat_minor": 2
}
