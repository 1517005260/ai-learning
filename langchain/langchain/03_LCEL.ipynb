{
 "cells": [
  {
   "cell_type": "markdown",
   "metadata": {},
   "source": [
    "# Langchain多参数传参与LCEL\n",
    "\n",
    "在[02](./02_prompt_llmchain.ipynb)中，我们传入的参数是单个的{sence}，这里会加入多个参数\n",
    "\n",
    "## 1 多参数"
   ]
  },
  {
   "cell_type": "code",
   "execution_count": 2,
   "metadata": {},
   "outputs": [
    {
     "data": {
      "text/plain": [
       "'秋风扫落叶，金黄装满枝。\\n日暮寒霜白，月升天地寂。'"
      ]
     },
     "execution_count": 2,
     "metadata": {},
     "output_type": "execute_result"
    }
   ],
   "source": [
    "import shutup\n",
    "shutup.please()\n",
    "\n",
    "from dotenv import load_dotenv\n",
    "load_dotenv()\n",
    "\n",
    "from langchain.prompts import PromptTemplate\n",
    "from langchain.chains import LLMChain\n",
    "from langchain.chat_models import ChatOpenAI\n",
    "\n",
    "llm = ChatOpenAI(model='qwen-max')\n",
    "\n",
    "template = '写一首描写{sence}的诗，格式要求为{type}'\n",
    "\n",
    "prompt = PromptTemplate(\n",
    "    template = template, \n",
    "    input_variables = ['type', 'sence']\n",
    ")\n",
    "\n",
    "prompt = PromptTemplate.from_template(template)\n",
    "\n",
    "chain = LLMChain(llm=llm, prompt=prompt)\n",
    "result = chain.predict(sence='秋天', type='五言绝句')\n",
    "result"
   ]
  },
  {
   "cell_type": "markdown",
   "metadata": {},
   "source": [
    "## 2 其他调用方式"
   ]
  },
  {
   "cell_type": "code",
   "execution_count": 3,
   "metadata": {},
   "outputs": [
    {
     "data": {
      "text/plain": [
       "'秋风扫落叶，金黄装满枝。\\n寒霜凝野草，月色冷如丝。'"
      ]
     },
     "execution_count": 3,
     "metadata": {},
     "output_type": "execute_result"
    }
   ],
   "source": [
    "chain.run({'sence':'秋天', 'type':'五言绝句'})"
   ]
  },
  {
   "cell_type": "code",
   "execution_count": 4,
   "metadata": {},
   "outputs": [
    {
     "data": {
      "text/plain": [
       "{'sence': '秋天', 'type': '五言绝句', 'text': '秋风扫落叶，飘零似客心。\\n寒霜凝野草，月色满空林。'}"
      ]
     },
     "execution_count": 4,
     "metadata": {},
     "output_type": "execute_result"
    }
   ],
   "source": [
    "chain({'sence':'秋天', 'type':'五言绝句'})"
   ]
  },
  {
   "cell_type": "code",
   "execution_count": 5,
   "metadata": {},
   "outputs": [
    {
     "data": {
      "text/plain": [
       "{'sence': '秋天', 'type': '五言绝句', 'text': '秋风扫落叶，金黄装满枝。\\n日落西山后，寒霜凝野时。'}"
      ]
     },
     "execution_count": 5,
     "metadata": {},
     "output_type": "execute_result"
    }
   ],
   "source": [
    "chain.invoke({'sence':'秋天', 'type':'五言绝句'})"
   ]
  },
  {
   "cell_type": "code",
   "execution_count": 6,
   "metadata": {},
   "outputs": [
    {
     "data": {
      "text/plain": [
       "[{'text': '秋风扫落叶，金黄装满枝。\\n日暮寒霜降，月升思绵绵。'}]"
      ]
     },
     "execution_count": 6,
     "metadata": {},
     "output_type": "execute_result"
    }
   ],
   "source": [
    "chain.apply([{'sence':'秋天', 'type':'五言绝句'}])"
   ]
  },
  {
   "cell_type": "code",
   "execution_count": 7,
   "metadata": {},
   "outputs": [
    {
     "data": {
      "text/plain": [
       "LLMResult(generations=[[ChatGeneration(text='秋风扫落叶，飘零似客心。\\n山色笼轻雾，寒鸦点点金。', generation_info={'finish_reason': 'stop', 'logprobs': None}, message=AIMessage(content='秋风扫落叶，飘零似客心。\\n山色笼轻雾，寒鸦点点金。'))]], llm_output={'token_usage': {'completion_tokens': 23, 'prompt_tokens': 22, 'total_tokens': 45}, 'model_name': 'qwen-max'}, run=[RunInfo(run_id=UUID('eb93cd0a-2a1e-4ae0-8148-8e5e2eb4f725'))])"
      ]
     },
     "execution_count": 7,
     "metadata": {},
     "output_type": "execute_result"
    }
   ],
   "source": [
    "chain.generate([{'sence':'秋天', 'type':'五言绝句'}])"
   ]
  },
  {
   "cell_type": "markdown",
   "metadata": {},
   "source": [
    "## 3 LCEL LangChain Expression Language\n",
    "\n",
    "LangChain专用语法糖"
   ]
  },
  {
   "cell_type": "code",
   "execution_count": 8,
   "metadata": {},
   "outputs": [
    {
     "data": {
      "text/plain": [
       "AIMessage(content='雪落无声夜，银装素裹晨。\\n寒风摇树影，冬日暖人心。')"
      ]
     },
     "execution_count": 8,
     "metadata": {},
     "output_type": "execute_result"
    }
   ],
   "source": [
    "chain = prompt | llm\n",
    "result = chain.invoke({'sence':'冬天', 'type':'五言绝句'})\n",
    "result"
   ]
  }
 ],
 "metadata": {
  "kernelspec": {
   "display_name": "base",
   "language": "python",
   "name": "python3"
  },
  "language_info": {
   "codemirror_mode": {
    "name": "ipython",
    "version": 3
   },
   "file_extension": ".py",
   "mimetype": "text/x-python",
   "name": "python",
   "nbconvert_exporter": "python",
   "pygments_lexer": "ipython3",
   "version": "3.11.7"
  }
 },
 "nbformat": 4,
 "nbformat_minor": 2
}
