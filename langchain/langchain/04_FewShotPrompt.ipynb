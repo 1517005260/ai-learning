{
 "cells": [
  {
   "cell_type": "markdown",
   "metadata": {},
   "source": [
    "# 在提示词中给与大模型示例"
   ]
  },
  {
   "cell_type": "code",
   "execution_count": 1,
   "metadata": {},
   "outputs": [],
   "source": [
    "import shutup\n",
    "shutup.please()"
   ]
  },
  {
   "cell_type": "code",
   "execution_count": 2,
   "metadata": {},
   "outputs": [],
   "source": [
    "from dotenv import load_dotenv\n",
    "load_dotenv()\n",
    "\n",
    "from langchain.chat_models import ChatOpenAI\n",
    "llm = ChatOpenAI(model='qwen-max', temperature=0)  # temperature=0 最严格，不让大模型自由发挥\n",
    "\n",
    "from langchain.chains import LLMChain\n",
    "from langchain.prompts import PromptTemplate\n",
    "from langchain.prompts import FewShotPromptTemplate"
   ]
  },
  {
   "cell_type": "code",
   "execution_count": 3,
   "metadata": {},
   "outputs": [
    {
     "data": {
      "text/plain": [
       "'请分析以下诗歌的格式，并按格式要求创作诗歌。\\n\\n这是一首描写秋天的诗，格式为五言绝句：\\n移舟泊烟渚，日暮客愁新。\\n野旷天低树，江清月近人。\\n\\n这是一首描写冬天的诗，格式为七言律诗：\\n昔人已乘黄鹤去，此地空余黄鹤楼。\\n黄鹤一去不复返，白云千载空悠悠。\\n晴川历历汉阳树，芳草萋萋鹦鹉洲。\\n日暮乡关何处是？烟波江上使人愁。\\n\\n写一首描写秋天的诗，格式要求为七言律诗：\\n'"
      ]
     },
     "execution_count": 3,
     "metadata": {},
     "output_type": "execute_result"
    }
   ],
   "source": [
    "examples = [\n",
    "  {'sence': '秋天', 'type': '五言绝句', 'text': '移舟泊烟渚，日暮客愁新。\\n野旷天低树，江清月近人。'},\n",
    "  {'sence': '冬天', 'type': '七言律诗', 'text': '昔人已乘黄鹤去，此地空余黄鹤楼。\\n黄鹤一去不复返，白云千载空悠悠。\\n晴川历历汉阳树，芳草萋萋鹦鹉洲。\\n日暮乡关何处是？烟波江上使人愁。'},\n",
    "]\n",
    "\n",
    "example_template = '这是一首描写{sence}的诗，格式为{type}：\\n{text}'\n",
    "example_prompt = PromptTemplate(\n",
    "    template = example_template,\n",
    "    input_variables = ['sence', 'type', 'text']\n",
    ")\n",
    "\n",
    "prompt = FewShotPromptTemplate(\n",
    "    examples=examples,\n",
    "    example_prompt=example_prompt,\n",
    "    example_separator='\\n\\n',\n",
    "    prefix='请分析以下诗歌的格式，并按格式要求创作诗歌。',  # 前缀\n",
    "    suffix='写一首描写{sence}的诗，格式要求为{type}：\\n',  # 后缀\n",
    "    input_variables=['sence', 'type',]\n",
    ")\n",
    "prompt.format(sence='秋天', type='七言律诗')"
   ]
  },
  {
   "cell_type": "code",
   "execution_count": 5,
   "metadata": {},
   "outputs": [
    {
     "data": {
      "text/plain": [
       "'夏日炎阳光似火，绿荫浓密鸟声多。\\n池塘荷叶浮萍散，小径蝉鸣柳絮和。\\n晚风轻拂花香远，夜幕星辉映碧波。\\n人间好景君须记，莫待秋来叹逝波。'"
      ]
     },
     "execution_count": 5,
     "metadata": {},
     "output_type": "execute_result"
    }
   ],
   "source": [
    "chain = LLMChain(llm=llm, prompt=prompt)\n",
    "result = chain.run({'sence':'夏天', 'type':'七言律诗'})\n",
    "result"
   ]
  }
 ],
 "metadata": {
  "kernelspec": {
   "display_name": "base",
   "language": "python",
   "name": "python3"
  },
  "language_info": {
   "codemirror_mode": {
    "name": "ipython",
    "version": 3
   },
   "file_extension": ".py",
   "mimetype": "text/x-python",
   "name": "python",
   "nbconvert_exporter": "python",
   "pygments_lexer": "ipython3",
   "version": "3.11.7"
  }
 },
 "nbformat": 4,
 "nbformat_minor": 2
}
