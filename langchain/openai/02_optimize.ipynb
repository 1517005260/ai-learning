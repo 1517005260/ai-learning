{
 "cells": [
  {
   "cell_type": "markdown",
   "metadata": {},
   "source": [
    "# Openai格式代码调用优化\n",
    "\n",
    "- 可调整参数：\n",
    "    - `max_tokens`：用于指定生成的文本的最大长度。一个`token`可以是一个字、一个词或者一个标点符号。\n",
    "    - `temperature`：用于控制生成文本的随机性。范围为0-2，值越大，生成的文本越随机，越有创造性；值越小，生成的文本越确定，越准确。\n",
    "    - `n`：用于指定生成多少个独立的文本片段，也就是多个备选答案。\n",
    "\n",
    "\n",
    "我们根据这些参数来调整[刚刚的代码](./01_base.ipynb)："
   ]
  },
  {
   "cell_type": "code",
   "execution_count": 1,
   "metadata": {},
   "outputs": [],
   "source": [
    "from openai import OpenAI\n",
    "OPENAI_BASE_URL = 'http://localhost:13000/v1'\n",
    "client = OpenAI(\n",
    "     api_key='sk-6n3IuwDfeMEZggn2A61a818dC722474292D929C27004Fe82',\n",
    "     base_url=OPENAI_BASE_URL\n",
    ")"
   ]
  },
  {
   "cell_type": "code",
   "execution_count": 2,
   "metadata": {},
   "outputs": [],
   "source": [
    "response = client.chat.completions.create(\n",
    "    model=\"qwen2:7b\",\n",
    "    messages=[\n",
    "        {\"role\": \"system\", \"content\": \"You are a helpful assistant.\"},\n",
    "        {\"role\": \"user\", \"content\": \"Who won the world series in 2020?\"},\n",
    "    ],\n",
    "    max_tokens=20,\n",
    "    temperature=0,\n",
    "    n=2,\n",
    ")"
   ]
  },
  {
   "cell_type": "code",
   "execution_count": 3,
   "metadata": {},
   "outputs": [
    {
     "data": {
      "text/plain": [
       "ChatCompletion(id='chatcmpl-7fb22cb2c14c4fbdb225ed2d4291cd44', choices=[Choice(finish_reason='stop', index=0, logprobs=None, message=ChatCompletionMessage(content='The 2020 World Series was won by the Los Angeles Dodgers. They defeated the Tampa', role='assistant', function_call=None, tool_calls=None))], created=1731999739, model='qwen2:7b', object='chat.completion', system_fingerprint=None, usage=CompletionUsage(completion_tokens=20, prompt_tokens=31, total_tokens=51))"
      ]
     },
     "execution_count": 3,
     "metadata": {},
     "output_type": "execute_result"
    }
   ],
   "source": [
    "response"
   ]
  },
  {
   "cell_type": "code",
   "execution_count": 4,
   "metadata": {},
   "outputs": [
    {
     "data": {
      "text/plain": [
       "'The 2020 World Series was won by the Los Angeles Dodgers. They defeated the Tampa'"
      ]
     },
     "execution_count": 4,
     "metadata": {},
     "output_type": "execute_result"
    }
   ],
   "source": [
    "response.choices[0].message.content"
   ]
  },
  {
   "cell_type": "markdown",
   "metadata": {},
   "source": [
    "可以看到减小max_tokens参数之后，回答明显被截断了。\n",
    "\n",
    "这里n=2，choices还可以被迭代遍历："
   ]
  },
  {
   "cell_type": "code",
   "execution_count": 5,
   "metadata": {},
   "outputs": [
    {
     "name": "stdout",
     "output_type": "stream",
     "text": [
      "The 2020 World Series was won by the Los Angeles Dodgers. They defeated the Tampa\n"
     ]
    }
   ],
   "source": [
    "for item in response.choices:\n",
    "    print(item.message.content)"
   ]
  },
  {
   "cell_type": "markdown",
   "metadata": {},
   "source": [
    "一般情况下，n取1即可，我们不需要一个问题生成两个回答。"
   ]
  },
  {
   "cell_type": "markdown",
   "metadata": {},
   "source": [
    "## 特殊的可调整参数：流式输出（逐字生成）"
   ]
  },
  {
   "cell_type": "code",
   "execution_count": 10,
   "metadata": {},
   "outputs": [
    {
     "data": {
      "text/plain": [
       "<openai.Stream at 0x1cdc36f3790>"
      ]
     },
     "execution_count": 10,
     "metadata": {},
     "output_type": "execute_result"
    }
   ],
   "source": [
    "response = client.chat.completions.create(\n",
    "    model=\"qwen2:7b\",\n",
    "    messages=[\n",
    "        {\"role\": \"system\", \"content\": \"You are a helpful assistant.\"},\n",
    "        {\"role\": \"user\", \"content\": \"Who won the world series in 2020?\"},\n",
    "    ],\n",
    "    stream=True\n",
    ")\n",
    "\n",
    "response"
   ]
  },
  {
   "cell_type": "markdown",
   "metadata": {},
   "source": [
    "可以看到流式输出下，response变成了一个Object，我们来遍历看看："
   ]
  },
  {
   "cell_type": "code",
   "execution_count": 7,
   "metadata": {},
   "outputs": [
    {
     "name": "stdout",
     "output_type": "stream",
     "text": [
      "ChatCompletionChunk(id='chatcmpl-c8bba29de4db410692bb4f7bf9b5dc4f', choices=[Choice(delta=ChoiceDelta(content='The', function_call=None, role='assistant', tool_calls=None), finish_reason=None, index=0, logprobs=None)], created=1731999739, model='qwen2:7b', object='chat.completion.chunk', system_fingerprint=None, usage=None)\n",
      "ChatCompletionChunk(id='chatcmpl-7391a65581b74ba79276ff94daabd073', choices=[Choice(delta=ChoiceDelta(content=' ', function_call=None, role='assistant', tool_calls=None), finish_reason=None, index=0, logprobs=None)], created=1731999739, model='qwen2:7b', object='chat.completion.chunk', system_fingerprint=None, usage=None)\n",
      "ChatCompletionChunk(id='chatcmpl-604a99758a234f9787222bcbb43568c8', choices=[Choice(delta=ChoiceDelta(content='2', function_call=None, role='assistant', tool_calls=None), finish_reason=None, index=0, logprobs=None)], created=1731999739, model='qwen2:7b', object='chat.completion.chunk', system_fingerprint=None, usage=None)\n",
      "ChatCompletionChunk(id='chatcmpl-0408cc209aef4338926f0d6c2000ef74', choices=[Choice(delta=ChoiceDelta(content='0', function_call=None, role='assistant', tool_calls=None), finish_reason=None, index=0, logprobs=None)], created=1731999739, model='qwen2:7b', object='chat.completion.chunk', system_fingerprint=None, usage=None)\n",
      "ChatCompletionChunk(id='chatcmpl-6270a136d9da4fd9baa1a9ac8b1366bc', choices=[Choice(delta=ChoiceDelta(content='2', function_call=None, role='assistant', tool_calls=None), finish_reason=None, index=0, logprobs=None)], created=1731999739, model='qwen2:7b', object='chat.completion.chunk', system_fingerprint=None, usage=None)\n",
      "ChatCompletionChunk(id='chatcmpl-fe265dc4855645ce98f5bcf9da4ab384', choices=[Choice(delta=ChoiceDelta(content='0', function_call=None, role='assistant', tool_calls=None), finish_reason=None, index=0, logprobs=None)], created=1731999739, model='qwen2:7b', object='chat.completion.chunk', system_fingerprint=None, usage=None)\n",
      "ChatCompletionChunk(id='chatcmpl-aeeec45f1bb54a1991008b7a856124bf', choices=[Choice(delta=ChoiceDelta(content=' World', function_call=None, role='assistant', tool_calls=None), finish_reason=None, index=0, logprobs=None)], created=1731999739, model='qwen2:7b', object='chat.completion.chunk', system_fingerprint=None, usage=None)\n",
      "ChatCompletionChunk(id='chatcmpl-48f069260fc9468b91149a007cba66f5', choices=[Choice(delta=ChoiceDelta(content=' Series', function_call=None, role='assistant', tool_calls=None), finish_reason=None, index=0, logprobs=None)], created=1731999739, model='qwen2:7b', object='chat.completion.chunk', system_fingerprint=None, usage=None)\n",
      "ChatCompletionChunk(id='chatcmpl-2eaf74afe26d494d910c89e86052da29', choices=[Choice(delta=ChoiceDelta(content=' was', function_call=None, role='assistant', tool_calls=None), finish_reason=None, index=0, logprobs=None)], created=1731999739, model='qwen2:7b', object='chat.completion.chunk', system_fingerprint=None, usage=None)\n",
      "ChatCompletionChunk(id='chatcmpl-1cffe727d907423ab2cda2bd96b19507', choices=[Choice(delta=ChoiceDelta(content=' won', function_call=None, role='assistant', tool_calls=None), finish_reason=None, index=0, logprobs=None)], created=1731999739, model='qwen2:7b', object='chat.completion.chunk', system_fingerprint=None, usage=None)\n",
      "ChatCompletionChunk(id='chatcmpl-99e74b9ab2574459b9e4a03a4211b56f', choices=[Choice(delta=ChoiceDelta(content=' by', function_call=None, role='assistant', tool_calls=None), finish_reason=None, index=0, logprobs=None)], created=1731999739, model='qwen2:7b', object='chat.completion.chunk', system_fingerprint=None, usage=None)\n",
      "ChatCompletionChunk(id='chatcmpl-c4f2ce28bfad4b80b281a25ad0648129', choices=[Choice(delta=ChoiceDelta(content=' the', function_call=None, role='assistant', tool_calls=None), finish_reason=None, index=0, logprobs=None)], created=1731999739, model='qwen2:7b', object='chat.completion.chunk', system_fingerprint=None, usage=None)\n",
      "ChatCompletionChunk(id='chatcmpl-b2ac31f6c734426d8973fc8ba0b24cf4', choices=[Choice(delta=ChoiceDelta(content=' Los', function_call=None, role='assistant', tool_calls=None), finish_reason=None, index=0, logprobs=None)], created=1731999739, model='qwen2:7b', object='chat.completion.chunk', system_fingerprint=None, usage=None)\n",
      "ChatCompletionChunk(id='chatcmpl-3753d489e7cd4169894c9ee1e5a12004', choices=[Choice(delta=ChoiceDelta(content=' Angeles', function_call=None, role='assistant', tool_calls=None), finish_reason=None, index=0, logprobs=None)], created=1731999739, model='qwen2:7b', object='chat.completion.chunk', system_fingerprint=None, usage=None)\n",
      "ChatCompletionChunk(id='chatcmpl-7654622847254edb9d9764a23bf940e8', choices=[Choice(delta=ChoiceDelta(content=' Dodgers', function_call=None, role='assistant', tool_calls=None), finish_reason=None, index=0, logprobs=None)], created=1731999739, model='qwen2:7b', object='chat.completion.chunk', system_fingerprint=None, usage=None)\n",
      "ChatCompletionChunk(id='chatcmpl-b75054944c084d4e928752ee4cfcef15', choices=[Choice(delta=ChoiceDelta(content='.', function_call=None, role='assistant', tool_calls=None), finish_reason=None, index=0, logprobs=None)], created=1731999739, model='qwen2:7b', object='chat.completion.chunk', system_fingerprint=None, usage=None)\n",
      "ChatCompletionChunk(id='chatcmpl-5261d9c3707843cfa23fef7cc37a7627', choices=[Choice(delta=ChoiceDelta(content=' They', function_call=None, role='assistant', tool_calls=None), finish_reason=None, index=0, logprobs=None)], created=1731999739, model='qwen2:7b', object='chat.completion.chunk', system_fingerprint=None, usage=None)\n",
      "ChatCompletionChunk(id='chatcmpl-5e40488fb5be4c738f855e361d106542', choices=[Choice(delta=ChoiceDelta(content=' defeated', function_call=None, role='assistant', tool_calls=None), finish_reason=None, index=0, logprobs=None)], created=1731999739, model='qwen2:7b', object='chat.completion.chunk', system_fingerprint=None, usage=None)\n",
      "ChatCompletionChunk(id='chatcmpl-224539b61bfb4fe0a4d2d2348912c7d5', choices=[Choice(delta=ChoiceDelta(content=' the', function_call=None, role='assistant', tool_calls=None), finish_reason=None, index=0, logprobs=None)], created=1731999739, model='qwen2:7b', object='chat.completion.chunk', system_fingerprint=None, usage=None)\n",
      "ChatCompletionChunk(id='chatcmpl-b3568c8aaf0e4dc5a984f52f49b2b15c', choices=[Choice(delta=ChoiceDelta(content=' Tampa', function_call=None, role='assistant', tool_calls=None), finish_reason=None, index=0, logprobs=None)], created=1731999739, model='qwen2:7b', object='chat.completion.chunk', system_fingerprint=None, usage=None)\n",
      "ChatCompletionChunk(id='chatcmpl-fd9e34db532a4dbb875e2b2129327c8a', choices=[Choice(delta=ChoiceDelta(content=' Bay', function_call=None, role='assistant', tool_calls=None), finish_reason=None, index=0, logprobs=None)], created=1731999739, model='qwen2:7b', object='chat.completion.chunk', system_fingerprint=None, usage=None)\n",
      "ChatCompletionChunk(id='chatcmpl-d58a9462fd334171bb4d771bbee50552', choices=[Choice(delta=ChoiceDelta(content=' Rays', function_call=None, role='assistant', tool_calls=None), finish_reason=None, index=0, logprobs=None)], created=1731999739, model='qwen2:7b', object='chat.completion.chunk', system_fingerprint=None, usage=None)\n",
      "ChatCompletionChunk(id='chatcmpl-8fb482c5ef0c484a94387a0c66db1cd6', choices=[Choice(delta=ChoiceDelta(content=' in', function_call=None, role='assistant', tool_calls=None), finish_reason=None, index=0, logprobs=None)], created=1731999739, model='qwen2:7b', object='chat.completion.chunk', system_fingerprint=None, usage=None)\n",
      "ChatCompletionChunk(id='chatcmpl-b6d5f9683e17458da5648f9274d6f10a', choices=[Choice(delta=ChoiceDelta(content=' six', function_call=None, role='assistant', tool_calls=None), finish_reason=None, index=0, logprobs=None)], created=1731999739, model='qwen2:7b', object='chat.completion.chunk', system_fingerprint=None, usage=None)\n",
      "ChatCompletionChunk(id='chatcmpl-bbec71ca24474bc7aa0cfdc156cf28bb', choices=[Choice(delta=ChoiceDelta(content=' games', function_call=None, role='assistant', tool_calls=None), finish_reason=None, index=0, logprobs=None)], created=1731999739, model='qwen2:7b', object='chat.completion.chunk', system_fingerprint=None, usage=None)\n",
      "ChatCompletionChunk(id='chatcmpl-a8e27a732c4a4df199673699e6d330d7', choices=[Choice(delta=ChoiceDelta(content='.', function_call=None, role='assistant', tool_calls=None), finish_reason=None, index=0, logprobs=None)], created=1731999739, model='qwen2:7b', object='chat.completion.chunk', system_fingerprint=None, usage=None)\n",
      "ChatCompletionChunk(id='chatcmpl-f9ceebc047cc466b9f30a3f3794595a0', choices=[Choice(delta=ChoiceDelta(content=' It', function_call=None, role='assistant', tool_calls=None), finish_reason=None, index=0, logprobs=None)], created=1731999739, model='qwen2:7b', object='chat.completion.chunk', system_fingerprint=None, usage=None)\n",
      "ChatCompletionChunk(id='chatcmpl-148959cb7a35403887a8e8ee7e26b262', choices=[Choice(delta=ChoiceDelta(content=' was', function_call=None, role='assistant', tool_calls=None), finish_reason=None, index=0, logprobs=None)], created=1731999739, model='qwen2:7b', object='chat.completion.chunk', system_fingerprint=None, usage=None)\n",
      "ChatCompletionChunk(id='chatcmpl-ff5af3d6ffb74baf962fdec141185330', choices=[Choice(delta=ChoiceDelta(content=' the', function_call=None, role='assistant', tool_calls=None), finish_reason=None, index=0, logprobs=None)], created=1731999739, model='qwen2:7b', object='chat.completion.chunk', system_fingerprint=None, usage=None)\n",
      "ChatCompletionChunk(id='chatcmpl-0d9b17497c404b67a83180e82c1ebdb5', choices=[Choice(delta=ChoiceDelta(content=' Dodgers', function_call=None, role='assistant', tool_calls=None), finish_reason=None, index=0, logprobs=None)], created=1731999739, model='qwen2:7b', object='chat.completion.chunk', system_fingerprint=None, usage=None)\n",
      "ChatCompletionChunk(id='chatcmpl-d6acff1406f04cdd98a317f12b3887ea', choices=[Choice(delta=ChoiceDelta(content=\"'\", function_call=None, role='assistant', tool_calls=None), finish_reason=None, index=0, logprobs=None)], created=1731999739, model='qwen2:7b', object='chat.completion.chunk', system_fingerprint=None, usage=None)\n",
      "ChatCompletionChunk(id='chatcmpl-72dd9b2eda964c029a2f1579bea7df90', choices=[Choice(delta=ChoiceDelta(content=' first', function_call=None, role='assistant', tool_calls=None), finish_reason=None, index=0, logprobs=None)], created=1731999739, model='qwen2:7b', object='chat.completion.chunk', system_fingerprint=None, usage=None)\n",
      "ChatCompletionChunk(id='chatcmpl-b34c719d5e074d60ae1b072e302ad91d', choices=[Choice(delta=ChoiceDelta(content=' World', function_call=None, role='assistant', tool_calls=None), finish_reason=None, index=0, logprobs=None)], created=1731999739, model='qwen2:7b', object='chat.completion.chunk', system_fingerprint=None, usage=None)\n",
      "ChatCompletionChunk(id='chatcmpl-69c4109ac7554984b6b378f187311983', choices=[Choice(delta=ChoiceDelta(content=' Series', function_call=None, role='assistant', tool_calls=None), finish_reason=None, index=0, logprobs=None)], created=1731999739, model='qwen2:7b', object='chat.completion.chunk', system_fingerprint=None, usage=None)\n",
      "ChatCompletionChunk(id='chatcmpl-24560777a64e465aa0acdd2f8d773a12', choices=[Choice(delta=ChoiceDelta(content=' victory', function_call=None, role='assistant', tool_calls=None), finish_reason=None, index=0, logprobs=None)], created=1731999739, model='qwen2:7b', object='chat.completion.chunk', system_fingerprint=None, usage=None)\n",
      "ChatCompletionChunk(id='chatcmpl-e564cc251b8d412a8da87fe6c3a8e6e8', choices=[Choice(delta=ChoiceDelta(content=' since', function_call=None, role='assistant', tool_calls=None), finish_reason=None, index=0, logprobs=None)], created=1731999739, model='qwen2:7b', object='chat.completion.chunk', system_fingerprint=None, usage=None)\n",
      "ChatCompletionChunk(id='chatcmpl-22efc03e25504dd08f4e5c89b4bc89a6', choices=[Choice(delta=ChoiceDelta(content=' ', function_call=None, role='assistant', tool_calls=None), finish_reason=None, index=0, logprobs=None)], created=1731999739, model='qwen2:7b', object='chat.completion.chunk', system_fingerprint=None, usage=None)\n",
      "ChatCompletionChunk(id='chatcmpl-4348ac71e6a04ba19c95fdeccf2259b2', choices=[Choice(delta=ChoiceDelta(content='1', function_call=None, role='assistant', tool_calls=None), finish_reason=None, index=0, logprobs=None)], created=1731999739, model='qwen2:7b', object='chat.completion.chunk', system_fingerprint=None, usage=None)\n",
      "ChatCompletionChunk(id='chatcmpl-6285e07e52e14990ae6815dabe43b986', choices=[Choice(delta=ChoiceDelta(content='9', function_call=None, role='assistant', tool_calls=None), finish_reason=None, index=0, logprobs=None)], created=1731999739, model='qwen2:7b', object='chat.completion.chunk', system_fingerprint=None, usage=None)\n",
      "ChatCompletionChunk(id='chatcmpl-9712485d06c141c1be80977c525c3cb2', choices=[Choice(delta=ChoiceDelta(content='8', function_call=None, role='assistant', tool_calls=None), finish_reason=None, index=0, logprobs=None)], created=1731999739, model='qwen2:7b', object='chat.completion.chunk', system_fingerprint=None, usage=None)\n",
      "ChatCompletionChunk(id='chatcmpl-a6979f98b319443eaf2bd855da42d49b', choices=[Choice(delta=ChoiceDelta(content='8', function_call=None, role='assistant', tool_calls=None), finish_reason=None, index=0, logprobs=None)], created=1731999739, model='qwen2:7b', object='chat.completion.chunk', system_fingerprint=None, usage=None)\n",
      "ChatCompletionChunk(id='chatcmpl-7d91ce892af84f52b9d79006de9d71a9', choices=[Choice(delta=ChoiceDelta(content='.', function_call=None, role='assistant', tool_calls=None), finish_reason=None, index=0, logprobs=None)], created=1731999739, model='qwen2:7b', object='chat.completion.chunk', system_fingerprint=None, usage=None)\n",
      "ChatCompletionChunk(id='chatcmpl-a683ce02f29f45c0b478d7ba7897aecf', choices=[Choice(delta=ChoiceDelta(content='', function_call=None, role='assistant', tool_calls=None), finish_reason='stop', index=0, logprobs=None)], created=1731999739, model='qwen2:7b', object='chat.completion.chunk', system_fingerprint=None, usage=None)\n"
     ]
    }
   ],
   "source": [
    "\n",
    "for item in response:\n",
    "    print(item)"
   ]
  },
  {
   "cell_type": "markdown",
   "metadata": {},
   "source": [
    "流式输出就是一个字一个字蹦出来。\n",
    "\n",
    "查看完整内容："
   ]
  },
  {
   "cell_type": "code",
   "execution_count": 11,
   "metadata": {},
   "outputs": [
    {
     "name": "stdout",
     "output_type": "stream",
     "text": [
      "The Los Angeles Dodgers won the World Series in 2020. They defeated the Tampa Bay Rays in six games to claim their seventh championship title in franchise history."
     ]
    }
   ],
   "source": [
    "for item in response:\n",
    "    content = item.choices[0].delta.content\n",
    "    print(content, end='')"
   ]
  },
  {
   "cell_type": "markdown",
   "metadata": {},
   "source": [
    "## `.env`文件的使用\n",
    "\n",
    "一般而言，工程中的代码是不会出现llm调用的url和api-key的，我们将其放在同目录下的`.env`文件：\n",
    "\n",
    "```\n",
    "OPENAI_BASE_URL = 'http://localhost:13000/v1'\n",
    "OPENAI_API_KEY = 'sk-6n3IuwDfeMEZggn2A61a818dC722474292D929C27004Fe82'\n",
    "```"
   ]
  },
  {
   "cell_type": "code",
   "execution_count": 9,
   "metadata": {},
   "outputs": [
    {
     "name": "stdout",
     "output_type": "stream",
     "text": [
      "Looking in indexes: https://pypi.tuna.tsinghua.edu.cn/simple/\n",
      "Requirement already satisfied: python-dotenv in c:\\programdata\\anaconda3\\lib\\site-packages (0.21.0)\n",
      "Note: you may need to restart the kernel to use updated packages.\n"
     ]
    }
   ],
   "source": [
    "%pip install python-dotenv"
   ]
  },
  {
   "cell_type": "code",
   "execution_count": 12,
   "metadata": {},
   "outputs": [
    {
     "data": {
      "text/plain": [
       "True"
      ]
     },
     "execution_count": 12,
     "metadata": {},
     "output_type": "execute_result"
    }
   ],
   "source": [
    "from dotenv import load_dotenv\n",
    "load_dotenv()"
   ]
  },
  {
   "cell_type": "code",
   "execution_count": 13,
   "metadata": {},
   "outputs": [
    {
     "name": "stdout",
     "output_type": "stream",
     "text": [
      "The 2020 World Series was won by the Los Angeles Dodgers. They defeated the Tampa Bay Rays in six games. It was the Dodgers' first World Series victory since 1988."
     ]
    }
   ],
   "source": [
    "client = OpenAI()\n",
    "\n",
    "response = client.chat.completions.create(\n",
    "    model=\"qwen2:7b\",\n",
    "    messages=[\n",
    "        {\"role\": \"system\", \"content\": \"You are a helpful assistant.\"},\n",
    "        {\"role\": \"user\", \"content\": \"Who won the world series in 2020?\"},\n",
    "    ],\n",
    "    stream=True\n",
    ")\n",
    "\n",
    "for item in response:\n",
    "    content = item.choices[0].delta.content\n",
    "    if content is not None:\n",
    "        print(content, end='')"
   ]
  }
 ],
 "metadata": {
  "kernelspec": {
   "display_name": "base",
   "language": "python",
   "name": "python3"
  },
  "language_info": {
   "codemirror_mode": {
    "name": "ipython",
    "version": 3
   },
   "file_extension": ".py",
   "mimetype": "text/x-python",
   "name": "python",
   "nbconvert_exporter": "python",
   "pygments_lexer": "ipython3",
   "version": "3.11.7"
  }
 },
 "nbformat": 4,
 "nbformat_minor": 2
}
