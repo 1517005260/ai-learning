{
 "cells": [
  {
   "cell_type": "markdown",
   "metadata": {},
   "source": [
    "# 多轮对话\n",
    "\n",
    "场景：多轮问答且前后有承接关系"
   ]
  },
  {
   "cell_type": "code",
   "execution_count": 1,
   "metadata": {},
   "outputs": [],
   "source": [
    "from openai import OpenAI\n",
    "from dotenv import load_dotenv\n",
    "\n",
    "load_dotenv()\n",
    "\n",
    "client = OpenAI()\n",
    "\n",
    "messages = []  # 多轮对话的message等待后续填充"
   ]
  },
  {
   "cell_type": "markdown",
   "metadata": {},
   "source": [
    "在多轮对话时要注意，我们不仅要记录自己说的，llm的回复也是需要记录的。"
   ]
  },
  {
   "cell_type": "code",
   "execution_count": 6,
   "metadata": {},
   "outputs": [
    {
     "name": "stdout",
     "output_type": "stream",
     "text": [
      "Assistant:  感冒是一种常见的病毒感染性疾病，通常影响上呼吸道部分如鼻子、喉咙或气管。它是由多种不同的病毒所引起，最常见的是鼻病毒和冠状病毒。\n",
      "\n",
      "症状可能包括：\n",
      "- 鼻塞或流鼻涕；\n",
      "- 咳嗽；\n",
      "- 喉咙痛；\n",
      "- 轻度的发烧（在成人中通常不高于38°C）；\n",
      "- 头痛、肌肉疼痛或全身不适；\n",
      "- 打喷嚏；\n",
      "- 疲劳和咳嗽等。\n",
      "\n",
      "感冒通常具有自限性，意味着它会在一周到十天内自行缓解。不过，在这期间可以采取一些措施来减轻症状和促进身体的恢复：\n",
      "- 保持充足的休息。\n",
      "- 增加水分摄入量，如饮用温水、茶或汤。\n",
      "- 使用盐水漱口缓解喉咙痛。\n",
      "- 在家里使用加湿器帮助保持空气湿润，减少呼吸道不适。\n",
      "- 避免与他人过于密切接触以降低传染风险。\n",
      "\n",
      "对于儿童和有健康问题的人来说，如果症状持续加重或者发烧严重，请及时就医。同时，避免自行使用抗生素治疗感冒，因为抗生素只对由细菌引起的感染有效。在大多数情况下，自然恢复是感冒的最佳治疗方法。\n",
      "Assistant:  感冒（上呼吸道感染）通常是由多种病毒引起的一种常见疾病，并且可以导致一系列症状，包括：\n",
      "\n",
      "1. **咳嗽**：轻到中度的干咳或者有痰的咳嗽。\n",
      "2. **鼻塞或流鼻涕**：可能表现为清鼻涕或者黄色、绿色的浓鼻涕。\n",
      "3. **喉咙痛**：轻微到中等程度的不适感或疼痛。\n",
      "4. **头痛和肌肉疼痛**\n",
      "5. **疲劳**\n",
      "6. **打喷嚏**\n",
      "7. **发烧（体温升高）**\n",
      "\n",
      "发烧是感冒的一个常见症状，特别是对于成人来说。通常情况下，感冒引起的发烧不会很高，持续时间也相对较短，并且可以通过适当休息、补充水分以及使用退烧药物来控制。\n",
      "\n",
      "值得注意的是：\n",
      "- 对于儿童和老年人，即使感冒引起的发热可能不那么明显或温和，也应该密切关注并及时就医，因为高烧（体温高于38.5°C）可能会对健康构成风险。\n",
      "- 如果持续有高烧（成人温度通常定义为超过39°C），或者伴有严重的头痛、呕吐、嗜睡或者其他严重症状，应该寻求医疗帮助。\n",
      "\n",
      "总的来说，感冒的发烧是身体对病毒感染的一种反应。通过适当的方法进行管理，大多数人的感冒会在一周到十天内自行缓解。如果症状持续或加重，尤其是对于儿童和有基础健康问题的人来说，及时就医是非常重要的。\n"
     ]
    }
   ],
   "source": [
    "for i in range (0,2):  # 演示两轮对话\n",
    "    content = input('User: ')    # 提示用户输入\n",
    "    messages.append({'role':'user', 'content':content})  # 和单轮对话的格式保持一致\n",
    "\n",
    "    response = client.chat.completions.create(\n",
    "        model=\"qwen2:7b\",\n",
    "        messages=messages\n",
    "    )\n",
    "\n",
    "    assistant_content = response.choices[0].message.content\n",
    "    messages.append({'role':'assistant', 'content':assistant_content})  # 记录llm的回复\n",
    "    print('Assistant: ', assistant_content)\n",
    "\n",
    "# 感冒是什么？\n",
    "# 会引起发烧吗？"
   ]
  },
  {
   "cell_type": "markdown",
   "metadata": {},
   "source": [
    "在上例中，我们用的是把所有历史对话都带上的方法，实现了多轮对话的效果。这种方式非常简单，但是有一个问题，就是聊的时间越长，会越贵，因为历史的 messages 会积压，token 数量会越来越多。"
   ]
  }
 ],
 "metadata": {
  "kernelspec": {
   "display_name": "base",
   "language": "python",
   "name": "python3"
  },
  "language_info": {
   "codemirror_mode": {
    "name": "ipython",
    "version": 3
   },
   "file_extension": ".py",
   "mimetype": "text/x-python",
   "name": "python",
   "nbconvert_exporter": "python",
   "pygments_lexer": "ipython3",
   "version": "3.11.7"
  }
 },
 "nbformat": 4,
 "nbformat_minor": 2
}
