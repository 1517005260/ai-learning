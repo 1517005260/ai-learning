{
 "cells": [
  {
   "cell_type": "code",
   "execution_count": 1,
   "id": "542701c6",
   "metadata": {},
   "outputs": [],
   "source": [
    "import numpy as np\n",
    "import matplotlib.pyplot as plt\n",
    "from matplotlib.animation import FuncAnimation\n",
    "from IPython.display import HTML, display\n",
    "import ipywidgets as widgets"
   ]
  },
  {
   "cell_type": "code",
   "execution_count": 2,
   "id": "3b341e2b",
   "metadata": {},
   "outputs": [],
   "source": [
    "class TuringMachine:\n",
    "    def __init__(self, tape_string):\n",
    "        self.tape = {i: char for i, char in enumerate(tape_string)}\n",
    "        self.head = 0\n",
    "        self.state = 'q1'\n",
    "        self.history = []\n",
    "        self.rules = {\n",
    "            ('q1', '1'): ('1', 'R', 'q1'),\n",
    "            ('q1', '0'): ('1', 'R', 'q2'),\n",
    "            ('q2', '1'): ('1', 'R', 'q2'),\n",
    "            ('q2', '0'): ('0', 'L', 'q3'),\n",
    "            ('q3', '1'): ('0', 'H', 'q3'),\n",
    "            ('q3', '0'): ('0', 'H', 'q3')\n",
    "        }\n",
    "\n",
    "    def step(self):\n",
    "        current_value = self.tape.get(self.head, '0')\n",
    "        if (self.state, current_value) in self.rules:\n",
    "            write, move, next_state = self.rules[(self.state, current_value)]\n",
    "            self.tape[self.head] = write\n",
    "            self.head += 1 if move == 'R' else -1\n",
    "            self.state = next_state\n",
    "            self.capture_state()\n",
    "            if move == 'H':\n",
    "                return False\n",
    "            return True\n",
    "        return False\n",
    "\n",
    "    def run(self):\n",
    "        self.capture_state()\n",
    "        while self.step():\n",
    "            pass\n",
    "\n",
    "    def capture_state(self):\n",
    "        min_index = min(self.tape.keys())\n",
    "        max_index = max(self.tape.keys())\n",
    "        tape_array = [self.tape.get(i, '0') for i in range(min_index, max_index + 1)]\n",
    "        self.history.append((list(tape_array), self.head, self.state))\n",
    "\n",
    "def update_plot(frame, tm, fig, ax1, ax2):\n",
    "    tape_array, head, state = tm.history[frame]\n",
    "    ax1.clear()\n",
    "    ax2.clear()\n",
    "    ax1.bar(range(len(tape_array)), [1]*len(tape_array), color='lightblue', edgecolor='black')\n",
    "    ax1.set_ylim(0, 1.5)\n",
    "    ax1.set_title(f'State: {state}, Head at: {head}')\n",
    "    ax1.get_xaxis().set_visible(False)\n",
    "    ax1.get_yaxis().set_visible(False)\n",
    "    for i, value in enumerate(tape_array):\n",
    "        ax1.text(i, 0.5, value, ha='center', va='center', fontsize=12)\n",
    "    ax1.plot([head], [1], 'ro')\n",
    "    ax2.axis('off')\n",
    "    table_data = [[\"State/Symbol\", \"0\", \"1\"],\n",
    "                  [\"q1\", \"1 R q2\", \"1 R q1\"],\n",
    "                  [\"q2\", \"0 L q3\", \"1 R q2\"],\n",
    "                  [\"q3\", \"0 H q3\", \"0 H q3\"]]\n",
    "    table = ax2.table(cellText=table_data, loc='center', cellLoc='center')\n",
    "    table.auto_set_font_size(False)\n",
    "    table.set_fontsize(10)\n",
    "    table.scale(1.2, 1.2)\n",
    "\n",
    "def parse_input(input_str):\n",
    "    try:\n",
    "        a, b = map(int, input_str.split('+'))\n",
    "        return '1' * a + '0' + '1' * b\n",
    "    except:\n",
    "        return None\n",
    "\n",
    "def run_simulation(input_str):\n",
    "    tape_string = parse_input(input_str)\n",
    "    if tape_string:\n",
    "        tm = TuringMachine(tape_string)\n",
    "        tm.run()\n",
    "        fig, (ax1, ax2) = plt.subplots(2, 1, figsize=(10, 8))\n",
    "        ani = FuncAnimation(fig, update_plot, frames=len(tm.history), fargs=(tm, fig, ax1, ax2), repeat=False, interval=1500)\n",
    "        display(HTML(ani.to_jshtml()))\n",
    "    else:\n",
    "        print(\"Invalid input. Please enter in the form of 'X+Y' where X and Y are integers.\")"
   ]
  },
  {
   "cell_type": "code",
   "execution_count": 3,
   "id": "6b5182a6",
   "metadata": {},
   "outputs": [
    {
     "data": {
      "image/png": "[encoded data removed]",
      "text/plain": [
       "<Figure size 1000x800 with 2 Axes>"
      ]
     },
     "metadata": {},
     "output_type": "display_data"
    }
   ],
   "source": [
    "input_widget = widgets.Text(\n",
    "    value='3+4',\n",
    "    description='Input:',\n",
    "    disabled=False\n",
    ")"
   ]
  },
  {
   "cell_type": "code",
   "execution_count": 4,
   "id": "227e8186",
   "metadata": {},
   "outputs": [],
   "source": [
    "output_widget = widgets.Output()"
   ]
  },
  {
   "cell_type": "code",
   "execution_count": 5,
   "id": "5ddfc6c4",
   "metadata": {},
   "outputs": [],
   "source": [
    "def on_submit(change):\n",
    "    output_widget.clear_output()\n",
    "    with output_widget:\n",
    "        run_simulation(input_widget.value)"
   ]
  },
  {
   "cell_type": "code",
   "execution_count": 6,
   "id": "b9126781",
   "metadata": {},
   "outputs": [
    {
     "name": "stderr",
     "output_type": "stream",
     "text": [
      "C:\\Users\\15170\\AppData\\Local\\Temp\\ipykernel_18128\\717977284.py:1: DeprecationWarning: on_submit is deprecated. Instead, set the .continuous_update attribute to False and observe the value changing with: mywidget.observe(callback, 'value').\n",
      "  input_widget.on_submit(on_submit)\n"
     ]
    }
   ],
   "source": [
    "input_widget.on_submit(on_submit)"
   ]
  },
  {
   "cell_type": "code",
   "execution_count": 7,
   "id": "fff58e9d",
   "metadata": {},
   "outputs": [
    {
     "data": {
      "application/vnd.jupyter.widget-view+json": {
       "model_id": "cd7437bfa3c3404483cb2eaf1104a824",
       "version_major": 2,
       "version_minor": 0
      },
      "text/plain": [
       "Text(value='3+4', description='Input:')"
      ]
     },
     "metadata": {},
     "output_type": "display_data"
    },
    {
     "data": {
      "application/vnd.jupyter.widget-view+json": {
       "model_id": "b091a9bb724a4a01b6bfa2b59d5b2548",
       "version_major": 2,
       "version_minor": 0
      },
      "text/plain": [
       "Output()"
      ]
     },
     "metadata": {},
     "output_type": "display_data"
    }
   ],
   "source": [
    "display(input_widget, output_widget)"
   ]
  }
 ],
 "metadata": {
  "kernelspec": {
   "display_name": "Python 3 (ipykernel)",
   "language": "python",
   "name": "python3"
  },
  "language_info": {
   "codemirror_mode": {
    "name": "ipython",
    "version": 3
   },
   "file_extension": ".py",
   "mimetype": "text/x-python",
   "name": "python",
   "nbconvert_exporter": "python",
   "pygments_lexer": "ipython3",
   "version": "3.11.5"
  }
 },
 "nbformat": 4,
 "nbformat_minor": 5
}
