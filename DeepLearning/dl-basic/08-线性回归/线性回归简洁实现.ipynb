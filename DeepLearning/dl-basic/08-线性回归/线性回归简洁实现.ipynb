{
 "cells": [
  {
   "cell_type": "markdown",
   "metadata": {},
   "source": [
    "# 线性回归简洁实现\n",
    "\n",
    "即调包"
   ]
  },
  {
   "cell_type": "code",
   "execution_count": 1,
   "metadata": {},
   "outputs": [],
   "source": [
    "import numpy as np\n",
    "import torch\n",
    "from torch.utils import data\n",
    "from d2l import torch as d2l"
   ]
  },
  {
   "cell_type": "markdown",
   "metadata": {},
   "source": [
    "还是和之前一样，我们作为上帝先进行真实值定义"
   ]
  },
  {
   "cell_type": "code",
   "execution_count": 2,
   "metadata": {},
   "outputs": [],
   "source": [
    "true_w = torch.tensor([2, -3.4])\n",
    "true_b = 4.2\n",
    "features, labels = d2l.synthetic_data(true_w, true_b, 1000) # 调包，直接人工生成数据"
   ]
  },
  {
   "cell_type": "markdown",
   "metadata": {},
   "source": [
    "调包读取数据："
   ]
  },
  {
   "cell_type": "markdown",
   "metadata": {},
   "source": [
    "这里，\n",
    "\n",
    "```python\n",
    "data_arrays = [tensor1, tensor2]\n",
    "dataset = data.TensorDataset(*data_arrays)\n",
    "```\n",
    "\n",
    "等价于：\n",
    "\n",
    "```python\n",
    "dataset = data.TensorDataset(tensor1, tensor2)\n",
    "```\n",
    "\n",
    "这是python中的解包操作"
   ]
  },
  {
   "cell_type": "code",
   "execution_count": 3,
   "metadata": {},
   "outputs": [
    {
     "data": {
      "text/plain": [
       "[tensor([[ 2.7665,  0.2529],\n",
       "         [ 1.9997, -1.3722],\n",
       "         [ 0.5810, -0.8961],\n",
       "         [ 0.9370, -0.3671],\n",
       "         [-0.5888,  1.6066],\n",
       "         [-1.4575,  0.5634],\n",
       "         [-0.5592,  0.4610],\n",
       "         [-0.9245, -0.2676],\n",
       "         [-0.1836, -1.9164],\n",
       "         [-0.5899, -0.6669]]),\n",
       " tensor([[ 8.8739],\n",
       "         [12.8626],\n",
       "         [ 8.4085],\n",
       "         [ 7.3243],\n",
       "         [-2.4392],\n",
       "         [-0.6215],\n",
       "         [ 1.5175],\n",
       "         [ 3.2718],\n",
       "         [10.3377],\n",
       "         [ 5.2948]])]"
      ]
     },
     "execution_count": 3,
     "metadata": {},
     "output_type": "execute_result"
    }
   ],
   "source": [
    "def load_array(data_arrays, batch_size, is_train=True):  \n",
    "    dataset = data.TensorDataset(*data_arrays)  # 指定数据集\n",
    "    return data.DataLoader(dataset, batch_size, shuffle=is_train) # 批加载、打乱数据集\n",
    "\n",
    "batch_size = 10\n",
    "data_iter = load_array((features, labels), batch_size)\n",
    "\n",
    "next(iter(data_iter))  # 看看第一批数据"
   ]
  },
  {
   "cell_type": "markdown",
   "metadata": {},
   "source": [
    "模型和loss也是预先定义好的："
   ]
  },
  {
   "cell_type": "code",
   "execution_count": 4,
   "metadata": {},
   "outputs": [],
   "source": [
    "from torch import nn # nn是神经网络的缩写，有大量定义好的神经网络层\n",
    "\n",
    "# 这里，我们使用全连接层（Linear），等价于传统的线性回归\n",
    "net = nn.Sequential(nn.Linear(2, 1))  # 参数：输入维度、输出维度。这里即接收两个特征（x），映射到一个输出（y）\n",
    "# nn.Sequential 是一个容器模块，它按顺序将网络层组合在一起，可以把多个层堆叠在一起构建复杂的网络结构\n",
    "# 但是这里我们只有一层简单的神经网络，所以这里可写可不写"
   ]
  },
  {
   "cell_type": "code",
   "execution_count": 5,
   "metadata": {},
   "outputs": [
    {
     "data": {
      "text/plain": [
       "tensor([0.])"
      ]
     },
     "execution_count": 5,
     "metadata": {},
     "output_type": "execute_result"
    }
   ],
   "source": [
    "# 初始化参数：\n",
    "net[0].weight.data.normal_(0, 0.01) # w，设成正太分布的随机值\n",
    "net[0].bias.data.fill_(0) # b，设成0\n",
    "# net只有第0个元素"
   ]
  },
  {
   "cell_type": "code",
   "execution_count": 6,
   "metadata": {},
   "outputs": [],
   "source": [
    "# loss\n",
    "loss = nn.MSELoss()\n",
    "\n",
    "# sgd\n",
    "trainer = torch.optim.SGD(net.parameters(), lr=0.03)"
   ]
  },
  {
   "cell_type": "markdown",
   "metadata": {},
   "source": [
    "训练过程还是要手写："
   ]
  },
  {
   "cell_type": "code",
   "execution_count": 7,
   "metadata": {},
   "outputs": [
    {
     "name": "stdout",
     "output_type": "stream",
     "text": [
      "epoch 0, loss 0.000308\n",
      "epoch 1, loss 0.000096\n",
      "epoch 2, loss 0.000096\n"
     ]
    }
   ],
   "source": [
    "num_epochs = 3\n",
    "for epoch in range(num_epochs):\n",
    "    for X, y in data_iter:\n",
    "        l = loss(net(X), y) # 模型自带参数，直接传x，和真实y作loss即可\n",
    "        trainer.zero_grad()  # 先梯度清理，否则会累计\n",
    "        l.backward()  # pytorch会帮我们做sum() 操作\n",
    "        trainer.step()  # 参数更新\n",
    "    l = loss(net(features), labels)\n",
    "    print(f'epoch {epoch}, loss {l:f}')"
   ]
  },
  {
   "cell_type": "code",
   "execution_count": 8,
   "metadata": {},
   "outputs": [
    {
     "name": "stdout",
     "output_type": "stream",
     "text": [
      "w的估计误差： tensor([ 1.0097e-04, -9.9421e-05])\n",
      "b的估计误差： tensor([-0.0001])\n"
     ]
    }
   ],
   "source": [
    "w = net[0].weight.data\n",
    "print('w的估计误差：', true_w - w.reshape(true_w.shape))\n",
    "b = net[0].bias.data\n",
    "print('b的估计误差：', true_b - b)"
   ]
  }
 ],
 "metadata": {
  "kernelspec": {
   "display_name": "base",
   "language": "python",
   "name": "python3"
  },
  "language_info": {
   "codemirror_mode": {
    "name": "ipython",
    "version": 3
   },
   "file_extension": ".py",
   "mimetype": "text/x-python",
   "name": "python",
   "nbconvert_exporter": "python",
   "pygments_lexer": "ipython3",
   "version": "3.11.5"
  }
 },
 "nbformat": 4,
 "nbformat_minor": 2
}
