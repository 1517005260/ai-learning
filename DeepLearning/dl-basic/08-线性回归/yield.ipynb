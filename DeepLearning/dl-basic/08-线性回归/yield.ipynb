{
 "cells": [
  {
   "cell_type": "markdown",
   "metadata": {},
   "source": [
    "# Python 关键字 yield 详解"
   ]
  },
  {
   "cell_type": "markdown",
   "metadata": {},
   "source": [
    "假设我们有一个函数，它会生成一系列的数字，比如从 1 到 10。我们有两种方法来实现这个功能：一种是使用 return，另一种是使用 yield。"
   ]
  },
  {
   "cell_type": "code",
   "execution_count": 2,
   "metadata": {},
   "outputs": [
    {
     "name": "stdout",
     "output_type": "stream",
     "text": [
      "[1, 2, 3, 4, 5, 6, 7, 8, 9, 10]\n"
     ]
    }
   ],
   "source": [
    "# return\n",
    "def generate_numbers():\n",
    "    numbers = []\n",
    "    for i in range(1, 11):\n",
    "        numbers.append(i)\n",
    "    return numbers\n",
    "\n",
    "# 使用函数\n",
    "numbers = generate_numbers()\n",
    "print(numbers)"
   ]
  },
  {
   "cell_type": "markdown",
   "metadata": {},
   "source": [
    "在这种方法中，generate_numbers 函数会在内部生成一个完整的列表，然后一次性返回整个列表。这个列表会占用内存，特别是当生成的数字非常多时。"
   ]
  },
  {
   "cell_type": "code",
   "execution_count": 3,
   "metadata": {},
   "outputs": [
    {
     "name": "stdout",
     "output_type": "stream",
     "text": [
      "1\n",
      "2\n",
      "3\n",
      "4\n",
      "5\n",
      "6\n",
      "7\n",
      "8\n",
      "9\n",
      "10\n"
     ]
    }
   ],
   "source": [
    "# yield\n",
    "def generate_numbers():\n",
    "    for i in range(1, 11):\n",
    "        yield i\n",
    "\n",
    "# 使用生成器\n",
    "numbers = generate_numbers()\n",
    "for number in numbers:\n",
    "    print(number)"
   ]
  },
  {
   "cell_type": "markdown",
   "metadata": {},
   "source": [
    "在这种方法中，generate_numbers 函数使用 yield 逐个生成数字。在每次调用 yield 时，函数会暂停，并返回当前的数字。当我们再次请求下一个数字时，函数会从上次暂停的地方继续执行。"
   ]
  },
  {
   "cell_type": "markdown",
   "metadata": {},
   "source": [
    "## 对比\n",
    "- 内存使用：return 会将所有的数字一次性生成并返回，占用较多的内存。而 yield 则是按需生成，每次只生成一个数字，节省了内存。\n",
    "- 惰性求值：yield 是惰性求值的，只有在需要下一个值时才会生成，这在处理大数据集时非常有用。\n",
    "\n",
    "因此，传统的return是全量的，yield是增量的"
   ]
  }
 ],
 "metadata": {
  "kernelspec": {
   "display_name": "base",
   "language": "python",
   "name": "python3"
  },
  "language_info": {
   "codemirror_mode": {
    "name": "ipython",
    "version": 3
   },
   "file_extension": ".py",
   "mimetype": "text/x-python",
   "name": "python",
   "nbconvert_exporter": "python",
   "pygments_lexer": "ipython3",
   "version": "3.11.5"
  }
 },
 "nbformat": 4,
 "nbformat_minor": 2
}
